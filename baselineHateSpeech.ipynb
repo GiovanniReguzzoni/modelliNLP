{
  "nbformat": 4,
  "nbformat_minor": 0,
  "metadata": {
    "colab": {
      "name": "baselineHateSpeech.ipynb",
      "provenance": [],
      "authorship_tag": "ABX9TyOneHt708cyVgZxLiEgHz+S",
      "include_colab_link": true
    },
    "kernelspec": {
      "name": "python3",
      "display_name": "Python 3"
    },
    "language_info": {
      "name": "python"
    }
  },
  "cells": [
    {
      "cell_type": "markdown",
      "metadata": {
        "id": "view-in-github",
        "colab_type": "text"
      },
      "source": [
        "<a href=\"https://colab.research.google.com/github/GiovanniReguzzoni/modelliNLP/blob/main/baselineHateSpeech.ipynb\" target=\"_parent\"><img src=\"https://colab.research.google.com/assets/colab-badge.svg\" alt=\"Open In Colab\"/></a>"
      ]
    },
    {
      "cell_type": "code",
      "execution_count": null,
      "metadata": {
        "id": "UyMYnRqEVRBE"
      },
      "outputs": [],
      "source": [
        "import pandas as pd\n",
        "import numpy as np\n",
        "import re\n",
        "import string\n",
        "import csv"
      ]
    },
    {
      "cell_type": "code",
      "source": [
        "dftestl = pd.read_feather('/content/dftestlHSfea')"
      ],
      "metadata": {
        "id": "xQBIAVpHWH5B"
      },
      "execution_count": null,
      "outputs": []
    },
    {
      "cell_type": "code",
      "source": [
        "dftrain = pd.read_feather('/content/dftrainHSfea')"
      ],
      "metadata": {
        "id": "ENXvk_99WKH6"
      },
      "execution_count": null,
      "outputs": []
    },
    {
      "cell_type": "code",
      "source": [
        "#libreria sklearn\n",
        "from sklearn.feature_extraction.text import CountVectorizer\n",
        "from sklearn.feature_extraction.text import TfidfVectorizer\n"
      ],
      "metadata": {
        "id": "JH0Z-Y8mWOYk"
      },
      "execution_count": null,
      "outputs": []
    },
    {
      "cell_type": "code",
      "source": [
        "dftrain.head(200)"
      ],
      "metadata": {
        "colab": {
          "base_uri": "https://localhost:8080/",
          "height": 424
        },
        "id": "dwyg1axMWTFv",
        "outputId": "7ae31bae-98ee-4a08-8c82-04f7cb5eea8b"
      },
      "execution_count": null,
      "outputs": [
        {
          "output_type": "execute_result",
          "data": {
            "text/plain": [
              "                                                 text   hs\n",
              "0    È terrorismo anche questo, per mettere in uno ...   0\n",
              "1    @user @user infatti finché ci hanno guadagnato...   0\n",
              "2    Corriere: Tangenti, Mafia Capitale dimenticata...   0\n",
              "3    @user ad uno ad uno, perché quando i migranti ...   0\n",
              "4    Il divertimento del giorno? Trovare i patrioti...   0\n",
              "..                                                 ...  ..\n",
              "195  Boldrini accoglie studentessa immigrata a cui ...   0\n",
              "196  @user quello è un problema si, ma non il fatto...   0\n",
              "197          Roma, nascerà un nuovo campo rom URL URL    0\n",
              "198  Sfruttamento della #prostituzione e favoreggia...   0\n",
              "199  Le Nazioni Unite contro l’Italia: “Dovete dare...   0\n",
              "\n",
              "[200 rows x 2 columns]"
            ],
            "text/html": [
              "\n",
              "  <div id=\"df-cc54d8da-4687-4de3-9c39-a356d3ae7e45\">\n",
              "    <div class=\"colab-df-container\">\n",
              "      <div>\n",
              "<style scoped>\n",
              "    .dataframe tbody tr th:only-of-type {\n",
              "        vertical-align: middle;\n",
              "    }\n",
              "\n",
              "    .dataframe tbody tr th {\n",
              "        vertical-align: top;\n",
              "    }\n",
              "\n",
              "    .dataframe thead th {\n",
              "        text-align: right;\n",
              "    }\n",
              "</style>\n",
              "<table border=\"1\" class=\"dataframe\">\n",
              "  <thead>\n",
              "    <tr style=\"text-align: right;\">\n",
              "      <th></th>\n",
              "      <th>text</th>\n",
              "      <th>hs</th>\n",
              "    </tr>\n",
              "  </thead>\n",
              "  <tbody>\n",
              "    <tr>\n",
              "      <th>0</th>\n",
              "      <td>È terrorismo anche questo, per mettere in uno ...</td>\n",
              "      <td>0</td>\n",
              "    </tr>\n",
              "    <tr>\n",
              "      <th>1</th>\n",
              "      <td>@user @user infatti finché ci hanno guadagnato...</td>\n",
              "      <td>0</td>\n",
              "    </tr>\n",
              "    <tr>\n",
              "      <th>2</th>\n",
              "      <td>Corriere: Tangenti, Mafia Capitale dimenticata...</td>\n",
              "      <td>0</td>\n",
              "    </tr>\n",
              "    <tr>\n",
              "      <th>3</th>\n",
              "      <td>@user ad uno ad uno, perché quando i migranti ...</td>\n",
              "      <td>0</td>\n",
              "    </tr>\n",
              "    <tr>\n",
              "      <th>4</th>\n",
              "      <td>Il divertimento del giorno? Trovare i patrioti...</td>\n",
              "      <td>0</td>\n",
              "    </tr>\n",
              "    <tr>\n",
              "      <th>...</th>\n",
              "      <td>...</td>\n",
              "      <td>...</td>\n",
              "    </tr>\n",
              "    <tr>\n",
              "      <th>195</th>\n",
              "      <td>Boldrini accoglie studentessa immigrata a cui ...</td>\n",
              "      <td>0</td>\n",
              "    </tr>\n",
              "    <tr>\n",
              "      <th>196</th>\n",
              "      <td>@user quello è un problema si, ma non il fatto...</td>\n",
              "      <td>0</td>\n",
              "    </tr>\n",
              "    <tr>\n",
              "      <th>197</th>\n",
              "      <td>Roma, nascerà un nuovo campo rom URL URL</td>\n",
              "      <td>0</td>\n",
              "    </tr>\n",
              "    <tr>\n",
              "      <th>198</th>\n",
              "      <td>Sfruttamento della #prostituzione e favoreggia...</td>\n",
              "      <td>0</td>\n",
              "    </tr>\n",
              "    <tr>\n",
              "      <th>199</th>\n",
              "      <td>Le Nazioni Unite contro l’Italia: “Dovete dare...</td>\n",
              "      <td>0</td>\n",
              "    </tr>\n",
              "  </tbody>\n",
              "</table>\n",
              "<p>200 rows × 2 columns</p>\n",
              "</div>\n",
              "      <button class=\"colab-df-convert\" onclick=\"convertToInteractive('df-cc54d8da-4687-4de3-9c39-a356d3ae7e45')\"\n",
              "              title=\"Convert this dataframe to an interactive table.\"\n",
              "              style=\"display:none;\">\n",
              "        \n",
              "  <svg xmlns=\"http://www.w3.org/2000/svg\" height=\"24px\"viewBox=\"0 0 24 24\"\n",
              "       width=\"24px\">\n",
              "    <path d=\"M0 0h24v24H0V0z\" fill=\"none\"/>\n",
              "    <path d=\"M18.56 5.44l.94 2.06.94-2.06 2.06-.94-2.06-.94-.94-2.06-.94 2.06-2.06.94zm-11 1L8.5 8.5l.94-2.06 2.06-.94-2.06-.94L8.5 2.5l-.94 2.06-2.06.94zm10 10l.94 2.06.94-2.06 2.06-.94-2.06-.94-.94-2.06-.94 2.06-2.06.94z\"/><path d=\"M17.41 7.96l-1.37-1.37c-.4-.4-.92-.59-1.43-.59-.52 0-1.04.2-1.43.59L10.3 9.45l-7.72 7.72c-.78.78-.78 2.05 0 2.83L4 21.41c.39.39.9.59 1.41.59.51 0 1.02-.2 1.41-.59l7.78-7.78 2.81-2.81c.8-.78.8-2.07 0-2.86zM5.41 20L4 18.59l7.72-7.72 1.47 1.35L5.41 20z\"/>\n",
              "  </svg>\n",
              "      </button>\n",
              "      \n",
              "  <style>\n",
              "    .colab-df-container {\n",
              "      display:flex;\n",
              "      flex-wrap:wrap;\n",
              "      gap: 12px;\n",
              "    }\n",
              "\n",
              "    .colab-df-convert {\n",
              "      background-color: #E8F0FE;\n",
              "      border: none;\n",
              "      border-radius: 50%;\n",
              "      cursor: pointer;\n",
              "      display: none;\n",
              "      fill: #1967D2;\n",
              "      height: 32px;\n",
              "      padding: 0 0 0 0;\n",
              "      width: 32px;\n",
              "    }\n",
              "\n",
              "    .colab-df-convert:hover {\n",
              "      background-color: #E2EBFA;\n",
              "      box-shadow: 0px 1px 2px rgba(60, 64, 67, 0.3), 0px 1px 3px 1px rgba(60, 64, 67, 0.15);\n",
              "      fill: #174EA6;\n",
              "    }\n",
              "\n",
              "    [theme=dark] .colab-df-convert {\n",
              "      background-color: #3B4455;\n",
              "      fill: #D2E3FC;\n",
              "    }\n",
              "\n",
              "    [theme=dark] .colab-df-convert:hover {\n",
              "      background-color: #434B5C;\n",
              "      box-shadow: 0px 1px 3px 1px rgba(0, 0, 0, 0.15);\n",
              "      filter: drop-shadow(0px 1px 2px rgba(0, 0, 0, 0.3));\n",
              "      fill: #FFFFFF;\n",
              "    }\n",
              "  </style>\n",
              "\n",
              "      <script>\n",
              "        const buttonEl =\n",
              "          document.querySelector('#df-cc54d8da-4687-4de3-9c39-a356d3ae7e45 button.colab-df-convert');\n",
              "        buttonEl.style.display =\n",
              "          google.colab.kernel.accessAllowed ? 'block' : 'none';\n",
              "\n",
              "        async function convertToInteractive(key) {\n",
              "          const element = document.querySelector('#df-cc54d8da-4687-4de3-9c39-a356d3ae7e45');\n",
              "          const dataTable =\n",
              "            await google.colab.kernel.invokeFunction('convertToInteractive',\n",
              "                                                     [key], {});\n",
              "          if (!dataTable) return;\n",
              "\n",
              "          const docLinkHtml = 'Like what you see? Visit the ' +\n",
              "            '<a target=\"_blank\" href=https://colab.research.google.com/notebooks/data_table.ipynb>data table notebook</a>'\n",
              "            + ' to learn more about interactive tables.';\n",
              "          element.innerHTML = '';\n",
              "          dataTable['output_type'] = 'display_data';\n",
              "          await google.colab.output.renderOutput(dataTable, element);\n",
              "          const docLink = document.createElement('div');\n",
              "          docLink.innerHTML = docLinkHtml;\n",
              "          element.appendChild(docLink);\n",
              "        }\n",
              "      </script>\n",
              "    </div>\n",
              "  </div>\n",
              "  "
            ]
          },
          "metadata": {},
          "execution_count": 5
        }
      ]
    },
    {
      "cell_type": "code",
      "source": [
        "dftrain = dftrain.rename(columns={'text ': 'text'})\n",
        "dftestl = dftestl.rename(columns={'text ': 'text'})\n"
      ],
      "metadata": {
        "id": "QPREkbx8XnUQ"
      },
      "execution_count": null,
      "outputs": []
    },
    {
      "cell_type": "code",
      "source": [
        "dftrain.columns"
      ],
      "metadata": {
        "colab": {
          "base_uri": "https://localhost:8080/"
        },
        "id": "fFdR1tHnXOma",
        "outputId": "24b4f060-61a6-4a62-d6fd-bf4d08f30eb7"
      },
      "execution_count": null,
      "outputs": [
        {
          "output_type": "execute_result",
          "data": {
            "text/plain": [
              "Index(['text', 'hs'], dtype='object')"
            ]
          },
          "metadata": {},
          "execution_count": 7
        }
      ]
    },
    {
      "cell_type": "code",
      "source": [
        "dftestl.columns"
      ],
      "metadata": {
        "colab": {
          "base_uri": "https://localhost:8080/"
        },
        "id": "QnDN26uIrCUY",
        "outputId": "96d51b76-6e38-46f3-abf3-0496956e7036"
      },
      "execution_count": null,
      "outputs": [
        {
          "output_type": "execute_result",
          "data": {
            "text/plain": [
              "Index(['text', 'hs'], dtype='object')"
            ]
          },
          "metadata": {},
          "execution_count": 101
        }
      ]
    },
    {
      "cell_type": "code",
      "source": [
        "#esempio vettori tramite CountVectorizer\n",
        "\n",
        "\n",
        "testo = ['Minorenne rom arrestato dopo furto in appartamento', 'Toscana, regalati 30mila euro ai rom per fare la spesa in una Coop ', '\tInchiesta a torino - Trovato in Croazia il tesoro della “regina” rom' ]"
      ],
      "metadata": {
        "id": "cSRszD0LYCYB"
      },
      "execution_count": null,
      "outputs": []
    },
    {
      "cell_type": "code",
      "source": [
        "testo = ['Minorenne rom arrestato dopo furto in appartamento', \n",
        "         'Toscana, regalati 30mila euro ai rom per fare la spesa in una Coop ', \n",
        "         'Inchiesta a torino, Trovato in Croazia il tesoro della “regina” rom']"
      ],
      "metadata": {
        "id": "yHbdeDRn1tY9"
      },
      "execution_count": null,
      "outputs": []
    },
    {
      "cell_type": "code",
      "source": [
        "from sklearn.feature_extraction.text import CountVectorizer\n",
        "coun_vect = CountVectorizer()\n",
        "count_matrix = coun_vect.fit_transform(testo)\n",
        "\n",
        "count_array = count_matrix.toarray()\n",
        "\n",
        "df = pd.DataFrame(data=count_array,columns = coun_vect.get_feature_names_out())\n",
        "df.head()"
      ],
      "metadata": {
        "colab": {
          "base_uri": "https://localhost:8080/",
          "height": 217
        },
        "id": "5Q25wUq8YLXH",
        "outputId": "14ed7c6a-54d3-458f-89d7-2621abc2b5a4"
      },
      "execution_count": null,
      "outputs": [
        {
          "output_type": "execute_result",
          "data": {
            "text/plain": [
              "   30mila  ai  appartamento  arrestato  coop  croazia  della  dopo  euro  \\\n",
              "0       0   0             1          1     0        0      0     1     0   \n",
              "1       1   1             0          0     1        0      0     0     1   \n",
              "2       0   0             0          0     0        1      1     0     0   \n",
              "\n",
              "   fare  ...  per  regalati  regina  rom  spesa  tesoro  torino  toscana  \\\n",
              "0     0  ...    0         0       0    1      0       0       0        0   \n",
              "1     1  ...    1         1       0    1      1       0       0        1   \n",
              "2     0  ...    0         0       1    1      0       1       1        0   \n",
              "\n",
              "   trovato  una  \n",
              "0        0    0  \n",
              "1        0    1  \n",
              "2        1    0  \n",
              "\n",
              "[3 rows x 26 columns]"
            ],
            "text/html": [
              "\n",
              "  <div id=\"df-5fba0d06-1447-494e-82fe-da70a3e95d28\">\n",
              "    <div class=\"colab-df-container\">\n",
              "      <div>\n",
              "<style scoped>\n",
              "    .dataframe tbody tr th:only-of-type {\n",
              "        vertical-align: middle;\n",
              "    }\n",
              "\n",
              "    .dataframe tbody tr th {\n",
              "        vertical-align: top;\n",
              "    }\n",
              "\n",
              "    .dataframe thead th {\n",
              "        text-align: right;\n",
              "    }\n",
              "</style>\n",
              "<table border=\"1\" class=\"dataframe\">\n",
              "  <thead>\n",
              "    <tr style=\"text-align: right;\">\n",
              "      <th></th>\n",
              "      <th>30mila</th>\n",
              "      <th>ai</th>\n",
              "      <th>appartamento</th>\n",
              "      <th>arrestato</th>\n",
              "      <th>coop</th>\n",
              "      <th>croazia</th>\n",
              "      <th>della</th>\n",
              "      <th>dopo</th>\n",
              "      <th>euro</th>\n",
              "      <th>fare</th>\n",
              "      <th>...</th>\n",
              "      <th>per</th>\n",
              "      <th>regalati</th>\n",
              "      <th>regina</th>\n",
              "      <th>rom</th>\n",
              "      <th>spesa</th>\n",
              "      <th>tesoro</th>\n",
              "      <th>torino</th>\n",
              "      <th>toscana</th>\n",
              "      <th>trovato</th>\n",
              "      <th>una</th>\n",
              "    </tr>\n",
              "  </thead>\n",
              "  <tbody>\n",
              "    <tr>\n",
              "      <th>0</th>\n",
              "      <td>0</td>\n",
              "      <td>0</td>\n",
              "      <td>1</td>\n",
              "      <td>1</td>\n",
              "      <td>0</td>\n",
              "      <td>0</td>\n",
              "      <td>0</td>\n",
              "      <td>1</td>\n",
              "      <td>0</td>\n",
              "      <td>0</td>\n",
              "      <td>...</td>\n",
              "      <td>0</td>\n",
              "      <td>0</td>\n",
              "      <td>0</td>\n",
              "      <td>1</td>\n",
              "      <td>0</td>\n",
              "      <td>0</td>\n",
              "      <td>0</td>\n",
              "      <td>0</td>\n",
              "      <td>0</td>\n",
              "      <td>0</td>\n",
              "    </tr>\n",
              "    <tr>\n",
              "      <th>1</th>\n",
              "      <td>1</td>\n",
              "      <td>1</td>\n",
              "      <td>0</td>\n",
              "      <td>0</td>\n",
              "      <td>1</td>\n",
              "      <td>0</td>\n",
              "      <td>0</td>\n",
              "      <td>0</td>\n",
              "      <td>1</td>\n",
              "      <td>1</td>\n",
              "      <td>...</td>\n",
              "      <td>1</td>\n",
              "      <td>1</td>\n",
              "      <td>0</td>\n",
              "      <td>1</td>\n",
              "      <td>1</td>\n",
              "      <td>0</td>\n",
              "      <td>0</td>\n",
              "      <td>1</td>\n",
              "      <td>0</td>\n",
              "      <td>1</td>\n",
              "    </tr>\n",
              "    <tr>\n",
              "      <th>2</th>\n",
              "      <td>0</td>\n",
              "      <td>0</td>\n",
              "      <td>0</td>\n",
              "      <td>0</td>\n",
              "      <td>0</td>\n",
              "      <td>1</td>\n",
              "      <td>1</td>\n",
              "      <td>0</td>\n",
              "      <td>0</td>\n",
              "      <td>0</td>\n",
              "      <td>...</td>\n",
              "      <td>0</td>\n",
              "      <td>0</td>\n",
              "      <td>1</td>\n",
              "      <td>1</td>\n",
              "      <td>0</td>\n",
              "      <td>1</td>\n",
              "      <td>1</td>\n",
              "      <td>0</td>\n",
              "      <td>1</td>\n",
              "      <td>0</td>\n",
              "    </tr>\n",
              "  </tbody>\n",
              "</table>\n",
              "<p>3 rows × 26 columns</p>\n",
              "</div>\n",
              "      <button class=\"colab-df-convert\" onclick=\"convertToInteractive('df-5fba0d06-1447-494e-82fe-da70a3e95d28')\"\n",
              "              title=\"Convert this dataframe to an interactive table.\"\n",
              "              style=\"display:none;\">\n",
              "        \n",
              "  <svg xmlns=\"http://www.w3.org/2000/svg\" height=\"24px\"viewBox=\"0 0 24 24\"\n",
              "       width=\"24px\">\n",
              "    <path d=\"M0 0h24v24H0V0z\" fill=\"none\"/>\n",
              "    <path d=\"M18.56 5.44l.94 2.06.94-2.06 2.06-.94-2.06-.94-.94-2.06-.94 2.06-2.06.94zm-11 1L8.5 8.5l.94-2.06 2.06-.94-2.06-.94L8.5 2.5l-.94 2.06-2.06.94zm10 10l.94 2.06.94-2.06 2.06-.94-2.06-.94-.94-2.06-.94 2.06-2.06.94z\"/><path d=\"M17.41 7.96l-1.37-1.37c-.4-.4-.92-.59-1.43-.59-.52 0-1.04.2-1.43.59L10.3 9.45l-7.72 7.72c-.78.78-.78 2.05 0 2.83L4 21.41c.39.39.9.59 1.41.59.51 0 1.02-.2 1.41-.59l7.78-7.78 2.81-2.81c.8-.78.8-2.07 0-2.86zM5.41 20L4 18.59l7.72-7.72 1.47 1.35L5.41 20z\"/>\n",
              "  </svg>\n",
              "      </button>\n",
              "      \n",
              "  <style>\n",
              "    .colab-df-container {\n",
              "      display:flex;\n",
              "      flex-wrap:wrap;\n",
              "      gap: 12px;\n",
              "    }\n",
              "\n",
              "    .colab-df-convert {\n",
              "      background-color: #E8F0FE;\n",
              "      border: none;\n",
              "      border-radius: 50%;\n",
              "      cursor: pointer;\n",
              "      display: none;\n",
              "      fill: #1967D2;\n",
              "      height: 32px;\n",
              "      padding: 0 0 0 0;\n",
              "      width: 32px;\n",
              "    }\n",
              "\n",
              "    .colab-df-convert:hover {\n",
              "      background-color: #E2EBFA;\n",
              "      box-shadow: 0px 1px 2px rgba(60, 64, 67, 0.3), 0px 1px 3px 1px rgba(60, 64, 67, 0.15);\n",
              "      fill: #174EA6;\n",
              "    }\n",
              "\n",
              "    [theme=dark] .colab-df-convert {\n",
              "      background-color: #3B4455;\n",
              "      fill: #D2E3FC;\n",
              "    }\n",
              "\n",
              "    [theme=dark] .colab-df-convert:hover {\n",
              "      background-color: #434B5C;\n",
              "      box-shadow: 0px 1px 3px 1px rgba(0, 0, 0, 0.15);\n",
              "      filter: drop-shadow(0px 1px 2px rgba(0, 0, 0, 0.3));\n",
              "      fill: #FFFFFF;\n",
              "    }\n",
              "  </style>\n",
              "\n",
              "      <script>\n",
              "        const buttonEl =\n",
              "          document.querySelector('#df-5fba0d06-1447-494e-82fe-da70a3e95d28 button.colab-df-convert');\n",
              "        buttonEl.style.display =\n",
              "          google.colab.kernel.accessAllowed ? 'block' : 'none';\n",
              "\n",
              "        async function convertToInteractive(key) {\n",
              "          const element = document.querySelector('#df-5fba0d06-1447-494e-82fe-da70a3e95d28');\n",
              "          const dataTable =\n",
              "            await google.colab.kernel.invokeFunction('convertToInteractive',\n",
              "                                                     [key], {});\n",
              "          if (!dataTable) return;\n",
              "\n",
              "          const docLinkHtml = 'Like what you see? Visit the ' +\n",
              "            '<a target=\"_blank\" href=https://colab.research.google.com/notebooks/data_table.ipynb>data table notebook</a>'\n",
              "            + ' to learn more about interactive tables.';\n",
              "          element.innerHTML = '';\n",
              "          dataTable['output_type'] = 'display_data';\n",
              "          await google.colab.output.renderOutput(dataTable, element);\n",
              "          const docLink = document.createElement('div');\n",
              "          docLink.innerHTML = docLinkHtml;\n",
              "          element.appendChild(docLink);\n",
              "        }\n",
              "      </script>\n",
              "    </div>\n",
              "  </div>\n",
              "  "
            ]
          },
          "metadata": {},
          "execution_count": 5
        }
      ]
    },
    {
      "cell_type": "code",
      "source": [
        "#split train in train e validation\n",
        "from sklearn.model_selection import train_test_split\n"
      ],
      "metadata": {
        "id": "bUlT6AGodUp0"
      },
      "execution_count": null,
      "outputs": []
    },
    {
      "cell_type": "code",
      "source": [
        "X_train, X_test, y_train, y_test = train_test_split (dftrain.text, dftrain.hs, test_size=0.33, random_state=42)"
      ],
      "metadata": {
        "id": "rdIn56kEdcki"
      },
      "execution_count": null,
      "outputs": []
    },
    {
      "cell_type": "code",
      "source": [
        "X_train\n"
      ],
      "metadata": {
        "colab": {
          "base_uri": "https://localhost:8080/"
        },
        "id": "p9GqrFhLdvh9",
        "outputId": "8b43f2d7-3dc9-401e-ee5f-eaacf7292fca"
      },
      "execution_count": null,
      "outputs": [
        {
          "output_type": "execute_result",
          "data": {
            "text/plain": [
              "857     A #riscopriamoli con @user Lo straniero mister...\n",
              "4923    GARIBALDI a proposito di rifugiati e di immigr...\n",
              "3194    Uccisi i 3 terroristi islamici. Nonostate sia ...\n",
              "4819    Ma cosa aspettano i giovani a darsi una mossa ...\n",
              "219     Zuckerberg e i big della Silicon Valley contro...\n",
              "                              ...                        \n",
              "3772    Penso che chi non vuole vedere che gli attenta...\n",
              "5191    @user @user Purtroppo lo stato tutela gli immi...\n",
              "5226    @user Gli italiani li puoi buttare da un ponte...\n",
              "5390    Che dire di Danilo del GF a cui sono stati mos...\n",
              "860     Se non sei un immigrato-migrante-richiedente m...\n",
              "Name: text, Length: 4580, dtype: object"
            ]
          },
          "metadata": {},
          "execution_count": 12
        }
      ]
    },
    {
      "cell_type": "code",
      "source": [
        "y_train"
      ],
      "metadata": {
        "colab": {
          "base_uri": "https://localhost:8080/"
        },
        "id": "sWiW_NTEd216",
        "outputId": "cfdd1e54-d030-4998-9ca7-545f218714a3"
      },
      "execution_count": null,
      "outputs": [
        {
          "output_type": "execute_result",
          "data": {
            "text/plain": [
              "857     0\n",
              "4923    0\n",
              "3194    1\n",
              "4819    0\n",
              "219     0\n",
              "       ..\n",
              "3772    1\n",
              "5191    1\n",
              "5226    1\n",
              "5390    0\n",
              "860     0\n",
              "Name: hs, Length: 4580, dtype: int64"
            ]
          },
          "metadata": {},
          "execution_count": 13
        }
      ]
    },
    {
      "cell_type": "code",
      "source": [
        "from sklearn.feature_extraction.text import TfidfVectorizer\n",
        "\n",
        "tfidf = TfidfVectorizer(min_df=2, max_df=0.5, ngram_range=(1, 2))\n",
        "train_tfidf = tfidf.fit_transform(dftrain['text'])\n",
        "\n",
        "X_train_tfidf = tfidf.transform(X_train)\n",
        "X_test_tfidf = tfidf.transform(X_test)\n"
      ],
      "metadata": {
        "id": "wNAmToTja-5R"
      },
      "execution_count": null,
      "outputs": []
    },
    {
      "cell_type": "code",
      "source": [
        "test_tfidf = tfidf.transform(dftestl['text'])\n"
      ],
      "metadata": {
        "id": "WCDIDldcrZfP"
      },
      "execution_count": null,
      "outputs": []
    },
    {
      "cell_type": "code",
      "source": [
        "X_test_tfidf"
      ],
      "metadata": {
        "colab": {
          "base_uri": "https://localhost:8080/"
        },
        "id": "groqLUnThClu",
        "outputId": "90ec49f8-4950-4280-f6c4-6e314f253c58"
      },
      "execution_count": null,
      "outputs": [
        {
          "output_type": "execute_result",
          "data": {
            "text/plain": [
              "<2257x23028 sparse matrix of type '<class 'numpy.float64'>'\n",
              "\twith 64242 stored elements in Compressed Sparse Row format>"
            ]
          },
          "metadata": {},
          "execution_count": 89
        }
      ]
    },
    {
      "cell_type": "code",
      "source": [
        "X_train_tfidf"
      ],
      "metadata": {
        "colab": {
          "base_uri": "https://localhost:8080/"
        },
        "id": "RMnvh7tcbHrd",
        "outputId": "adc0a1a7-899c-4a0f-e111-589936445815"
      },
      "execution_count": null,
      "outputs": [
        {
          "output_type": "execute_result",
          "data": {
            "text/plain": [
              "<4580x23028 sparse matrix of type '<class 'numpy.float64'>'\n",
              "\twith 130062 stored elements in Compressed Sparse Row format>"
            ]
          },
          "metadata": {},
          "execution_count": 88
        }
      ]
    },
    {
      "cell_type": "markdown",
      "source": [
        "# Modelli di classificazione"
      ],
      "metadata": {
        "id": "P8k9WI9AbrkL"
      }
    },
    {
      "cell_type": "code",
      "source": [
        "from sklearn.linear_model import LogisticRegression\n",
        "from sklearn import model_selection"
      ],
      "metadata": {
        "id": "Fjhp7S15bplD"
      },
      "execution_count": null,
      "outputs": []
    },
    {
      "cell_type": "code",
      "source": [
        "ModelloLogisticRegression = LogisticRegression()\n",
        "\n",
        "ModelloLogisticRegression.fit(X_train_tfidf,y_train)"
      ],
      "metadata": {
        "colab": {
          "base_uri": "https://localhost:8080/"
        },
        "id": "ma9paoDwby7p",
        "outputId": "c073ac9a-920e-4745-cb9e-d1e92528d497"
      },
      "execution_count": null,
      "outputs": [
        {
          "output_type": "execute_result",
          "data": {
            "text/plain": [
              "LogisticRegression()"
            ]
          },
          "metadata": {},
          "execution_count": 17
        }
      ]
    },
    {
      "cell_type": "code",
      "source": [
        "predizioneValModelloLogisticRegression = ModelloLogisticRegression.predict(X_test_tfidf)"
      ],
      "metadata": {
        "id": "P29W7XU0qB2Q"
      },
      "execution_count": null,
      "outputs": []
    },
    {
      "cell_type": "code",
      "source": [
        "#controllo accuratezza sul dataset di validation\n",
        "from sklearn import metrics\n",
        "metrics.accuracy_score(y_test, predizioneValModelloLogisticRegression)\n"
      ],
      "metadata": {
        "colab": {
          "base_uri": "https://localhost:8080/"
        },
        "id": "k_PXlrcJpvxv",
        "outputId": "5d34aafc-5821-46a1-da88-fbf8c693b644"
      },
      "execution_count": null,
      "outputs": [
        {
          "output_type": "execute_result",
          "data": {
            "text/plain": [
              "0.7594151528577758"
            ]
          },
          "metadata": {},
          "execution_count": 36
        }
      ]
    },
    {
      "cell_type": "code",
      "source": [
        "predizioneFinModelloLogisticRegression = ModelloLogisticRegression.predict(test_tfidf)"
      ],
      "metadata": {
        "id": "m1bSQ0AkrnkQ"
      },
      "execution_count": null,
      "outputs": []
    },
    {
      "cell_type": "code",
      "source": [
        "#controllo accuratezza sul dataset di test\n",
        "from sklearn import metrics\n",
        "metrics.accuracy_score(dftestl['hs'], predizioneFinModelloLogisticRegression)\n"
      ],
      "metadata": {
        "colab": {
          "base_uri": "https://localhost:8080/"
        },
        "id": "f9JY8Vc8b8i1",
        "outputId": "3df7ec63-77c0-4c45-d380-b89625f659ef"
      },
      "execution_count": null,
      "outputs": [
        {
          "output_type": "execute_result",
          "data": {
            "text/plain": [
              "0.764"
            ]
          },
          "metadata": {},
          "execution_count": 23
        }
      ]
    },
    {
      "cell_type": "code",
      "source": [
        "from sklearn.metrics import recall_score\n",
        "#recall\n",
        "recall_score(dftestl['hs'], predizioneFinModelloLogisticRegression,  average='macro')\n"
      ],
      "metadata": {
        "colab": {
          "base_uri": "https://localhost:8080/"
        },
        "id": "_oVgjgnNaI7b",
        "outputId": "41754b3b-636d-4b52-d2da-ea286410670c"
      },
      "execution_count": null,
      "outputs": [
        {
          "output_type": "execute_result",
          "data": {
            "text/plain": [
              "0.764"
            ]
          },
          "metadata": {},
          "execution_count": 39
        }
      ]
    },
    {
      "cell_type": "code",
      "source": [
        "recall_score(dftestl['hs'], predizioneFinModelloLogisticRegression,  average='micro')"
      ],
      "metadata": {
        "colab": {
          "base_uri": "https://localhost:8080/"
        },
        "id": "gqoyYIVGabeb",
        "outputId": "f5d23758-a7c0-4fa4-ae76-37167302b8f3"
      },
      "execution_count": null,
      "outputs": [
        {
          "output_type": "execute_result",
          "data": {
            "text/plain": [
              "0.764"
            ]
          },
          "metadata": {},
          "execution_count": 40
        }
      ]
    },
    {
      "cell_type": "code",
      "source": [
        "from sklearn.metrics import precision_score\n",
        "precision_score(dftestl['hs'], predizioneFinModelloLogisticRegression,  average='micro')"
      ],
      "metadata": {
        "colab": {
          "base_uri": "https://localhost:8080/"
        },
        "id": "ozCVLLVSan-R",
        "outputId": "030c6117-1a7b-4dfa-a99c-c124e974bfd5"
      },
      "execution_count": null,
      "outputs": [
        {
          "output_type": "execute_result",
          "data": {
            "text/plain": [
              "0.764"
            ]
          },
          "metadata": {},
          "execution_count": 41
        }
      ]
    },
    {
      "cell_type": "code",
      "source": [
        " from sklearn.metrics import f1_score\n",
        "#f1\n",
        "f1_score(dftestl['hs'], predizioneFinModelloLogisticRegression, average='macro')"
      ],
      "metadata": {
        "colab": {
          "base_uri": "https://localhost:8080/"
        },
        "id": "sPUp16bHeDf4",
        "outputId": "a24046cc-c2b4-4d92-8445-8ce3bc10d1e4"
      },
      "execution_count": null,
      "outputs": [
        {
          "output_type": "execute_result",
          "data": {
            "text/plain": [
              "0.7020442792501616"
            ]
          },
          "metadata": {},
          "execution_count": 52
        }
      ]
    },
    {
      "cell_type": "code",
      "source": [
        " from sklearn.metrics import confusion_matrix"
      ],
      "metadata": {
        "id": "BIpZ_mnPfGUN"
      },
      "execution_count": null,
      "outputs": []
    },
    {
      "cell_type": "code",
      "source": [
        "array=confusion_matrix(dftestl['hs'], predizioneFinModelloLogisticRegression)\n",
        "# (tn, fp, fn, tp)\n",
        "array"
      ],
      "metadata": {
        "colab": {
          "base_uri": "https://localhost:8080/"
        },
        "id": "S9wBy8evfJu-",
        "outputId": "671ab26f-9ec9-4338-de3b-91f269940a48"
      },
      "execution_count": null,
      "outputs": [
        {
          "output_type": "execute_result",
          "data": {
            "text/plain": [
              "array([[305,  14],\n",
              "       [104,  77]])"
            ]
          },
          "metadata": {},
          "execution_count": 71
        }
      ]
    },
    {
      "cell_type": "code",
      "source": [
        "import seaborn as sns\n",
        "import pandas as pd\n",
        "import matplotlib.pyplot as plt\n",
        "\n",
        "\n",
        "ax= plt.subplot()\n",
        "sns.heatmap(array, annot=True, fmt='g', ax=ax);  \n",
        "\n",
        "\n",
        "ax.set_xlabel('');ax.set_ylabel('Valori attuali'); \n",
        "ax.set_xlabel('');ax.set_xlabel('Valori previsti'); \n",
        "\n",
        "ax.set_title('Matrice di confusione Logistic Regression'); \n",
        "ax.xaxis.set_ticklabels(['0= senza hatespeech', '1= con hatespeech']); ax.yaxis.set_ticklabels(['0= senza hatespeech', '1= con hatespeech']);"
      ],
      "metadata": {
        "colab": {
          "base_uri": "https://localhost:8080/",
          "height": 295
        },
        "id": "vlaLNogcfj-w",
        "outputId": "16949b44-ef67-40d6-81e0-80d2095f8924"
      },
      "execution_count": null,
      "outputs": [
        {
          "output_type": "display_data",
          "data": {
            "text/plain": [
              "<Figure size 432x288 with 2 Axes>"
            ],
            "image/png": "[encoded data removed]"
          },
          "metadata": {
            "needs_background": "light"
          }
        }
      ]
    },
    {
      "cell_type": "code",
      "source": [
        " predizioneFinModelloLogisticRegression"
      ],
      "metadata": {
        "colab": {
          "base_uri": "https://localhost:8080/"
        },
        "id": "U13SRNhusHgD",
        "outputId": "1fdd5843-fa53-4510-eef9-b05c808f7b65"
      },
      "execution_count": null,
      "outputs": [
        {
          "output_type": "execute_result",
          "data": {
            "text/plain": [
              "array([0, 1, 1, 0, 1, 1, 0, 1, 0, 1, 0, 1, 0, 1, 0, 1, 0, 0, 1, 1, 1, 1,\n",
              "       0, 0, 0, 0, 0, 0, 0, 0, 0, 0, 0, 1, 0, 0, 0, 0, 0, 0, 0, 0, 0, 0,\n",
              "       0, 0, 0, 0, 0, 0, 0, 0, 0, 0, 0, 0, 0, 0, 0, 0, 0, 0, 0, 0, 0, 0,\n",
              "       0, 0, 0, 0, 0, 0, 0, 0, 0, 0, 0, 0, 1, 0, 0, 0, 0, 0, 0, 0, 0, 0,\n",
              "       0, 0, 0, 0, 0, 0, 0, 0, 0, 0, 0, 0, 0, 0, 0, 0, 0, 0, 0, 0, 0, 0,\n",
              "       0, 0, 0, 0, 0, 0, 0, 0, 0, 0, 0, 1, 1, 0, 0, 1, 0, 0, 0, 0, 1, 1,\n",
              "       0, 1, 1, 0, 0, 0, 1, 1, 0, 1, 0, 0, 0, 0, 1, 0, 0, 0, 0, 0, 1, 0,\n",
              "       1, 0, 1, 1, 1, 1, 1, 0, 0, 1, 1, 1, 1, 1, 0, 1, 1, 1, 1, 0, 0, 1,\n",
              "       1, 1, 1, 1, 0, 1, 0, 1, 0, 1, 0, 1, 0, 0, 0, 0, 0, 1, 0, 0, 0, 1,\n",
              "       0, 0, 0, 0, 0, 0, 0, 1, 1, 1, 0, 0, 0, 0, 0, 0, 0, 0, 0, 0, 0, 0,\n",
              "       0, 1, 0, 0, 0, 0, 0, 0, 0, 0, 0, 0, 0, 0, 0, 0, 0, 0, 0, 1, 0, 0,\n",
              "       0, 0, 0, 0, 0, 0, 0, 0, 0, 0, 0, 0, 0, 0, 0, 0, 0, 0, 0, 0, 0, 0,\n",
              "       0, 0, 0, 0, 0, 0, 0, 0, 0, 1, 0, 0, 0, 0, 0, 0, 0, 0, 0, 0, 0, 0,\n",
              "       0, 0, 0, 1, 0, 0, 1, 1, 0, 0, 0, 1, 0, 0, 1, 0, 0, 0, 0, 0, 0, 1,\n",
              "       0, 0, 0, 0, 0, 0, 0, 1, 0, 0, 0, 0, 0, 0, 0, 1, 1, 0, 0, 1, 0, 0,\n",
              "       0, 1, 0, 0, 0, 1, 1, 1, 0, 1, 0, 0, 1, 0, 1, 1, 1, 1, 0, 0, 0, 0,\n",
              "       0, 0, 0, 0, 0, 0, 0, 1, 0, 1, 1, 1, 1, 1, 0, 1, 1, 0, 0, 0, 0, 0,\n",
              "       0, 0, 0, 0, 0, 0, 0, 0, 0, 0, 0, 0, 0, 0, 0, 0, 1, 0, 0, 0, 0, 0,\n",
              "       0, 0, 0, 0, 0, 0, 0, 0, 0, 1, 0, 0, 0, 0, 0, 0, 0, 0, 0, 0, 0, 0,\n",
              "       0, 0, 0, 0, 0, 0, 0, 0, 0, 0, 0, 0, 0, 0, 0, 0, 0, 0, 0, 0, 0, 0,\n",
              "       0, 0, 0, 0, 0, 0, 0, 0, 0, 0, 0, 0, 0, 0, 0, 0, 0, 0, 0, 0, 0, 0,\n",
              "       0, 0, 0, 0, 0, 0, 0, 0, 0, 0, 0, 0, 0, 1, 0, 0, 0, 0, 0, 0, 0, 0,\n",
              "       0, 0, 0, 0, 0, 0, 0, 0, 0, 0, 0, 0, 0, 0, 0, 1])"
            ]
          },
          "metadata": {},
          "execution_count": 24
        }
      ]
    },
    {
      "cell_type": "code",
      "source": [
        "df_1 = pd.DataFrame( predizioneFinModelloLogisticRegression)"
      ],
      "metadata": {
        "id": "S7ngCGIJsRtx"
      },
      "execution_count": null,
      "outputs": []
    },
    {
      "cell_type": "code",
      "source": [
        "df = pd.concat([dftestl, df_1], axis=1)"
      ],
      "metadata": {
        "id": "HaAo-L5FswvJ"
      },
      "execution_count": null,
      "outputs": []
    },
    {
      "cell_type": "code",
      "source": [
        "df = df.rename(columns={0: 'predizione'})\n"
      ],
      "metadata": {
        "id": "lSg7W2xdtMxu"
      },
      "execution_count": null,
      "outputs": []
    },
    {
      "cell_type": "code",
      "source": [
        "df.head(20)"
      ],
      "metadata": {
        "colab": {
          "base_uri": "https://localhost:8080/",
          "height": 677
        },
        "id": "0molXKzhs17h",
        "outputId": "6910a335-c6b7-4e0e-e832-fa1aad67dcae"
      },
      "execution_count": null,
      "outputs": [
        {
          "output_type": "execute_result",
          "data": {
            "text/plain": [
              "                                                 text  hs  predizione\n",
              "0   Che fine spero che faccia il killer nigeriano ...   1           0\n",
              "1    Così i profughi ci svuotano i negozi a Pordenone   1           1\n",
              "2   Così umiliano gli italiani e coccolano i cland...   1           1\n",
              "3   Danno soldi ai clandestini, ma ai disabili inv...   1           0\n",
              "4   Emergenza, Minniti annulla il viaggio e torna ...   1           1\n",
              "5   Gli immigrati sono matti, parola di scienziati...   1           1\n",
              "6   Ho chiesto ai profughi di lavorare ma preferis...   1           0\n",
              "7   Immigrati bomba sociale Subito via 600mila irr...   1           1\n",
              "8   Immigrati, così la sinistra ci costringe a ten...   1           0\n",
              "9   Immigrati, venite tutti qui. L'ultima \"perla\" ...   1           1\n",
              "10  Invasi dagli immigrati? Ci resta solo una poss...   1           0\n",
              "11  Io al governo? Come ridurrò clandestini e stup...   1           1\n",
              "12  Io, ostaggio degli immigrati: ecco come mi han...   1           0\n",
              "13  Italia serva, calpestata e invasa, adesso bast...   1           1\n",
              "14  L'immigrazione indiscriminata porta all'islami...   1           0\n",
              "15  Macché poveri e disperati. Questi sono falsi p...   1           1\n",
              "16  Malaria? E' solo l'inizio.... La tremenda prof...   1           0\n",
              "17           Migranti o \"profughi\", comunque invasori   1           0\n",
              "18  Perché non voglio immigrati, cosa sarebbe l'It...   1           1\n",
              "19  Sapete cosa voglio fare agli immigrati violent...   1           1"
            ],
            "text/html": [
              "\n",
              "  <div id=\"df-8d4c3aa1-96d5-4467-a56f-fdd556600226\">\n",
              "    <div class=\"colab-df-container\">\n",
              "      <div>\n",
              "<style scoped>\n",
              "    .dataframe tbody tr th:only-of-type {\n",
              "        vertical-align: middle;\n",
              "    }\n",
              "\n",
              "    .dataframe tbody tr th {\n",
              "        vertical-align: top;\n",
              "    }\n",
              "\n",
              "    .dataframe thead th {\n",
              "        text-align: right;\n",
              "    }\n",
              "</style>\n",
              "<table border=\"1\" class=\"dataframe\">\n",
              "  <thead>\n",
              "    <tr style=\"text-align: right;\">\n",
              "      <th></th>\n",
              "      <th>text</th>\n",
              "      <th>hs</th>\n",
              "      <th>predizione</th>\n",
              "    </tr>\n",
              "  </thead>\n",
              "  <tbody>\n",
              "    <tr>\n",
              "      <th>0</th>\n",
              "      <td>Che fine spero che faccia il killer nigeriano ...</td>\n",
              "      <td>1</td>\n",
              "      <td>0</td>\n",
              "    </tr>\n",
              "    <tr>\n",
              "      <th>1</th>\n",
              "      <td>Così i profughi ci svuotano i negozi a Pordenone</td>\n",
              "      <td>1</td>\n",
              "      <td>1</td>\n",
              "    </tr>\n",
              "    <tr>\n",
              "      <th>2</th>\n",
              "      <td>Così umiliano gli italiani e coccolano i cland...</td>\n",
              "      <td>1</td>\n",
              "      <td>1</td>\n",
              "    </tr>\n",
              "    <tr>\n",
              "      <th>3</th>\n",
              "      <td>Danno soldi ai clandestini, ma ai disabili inv...</td>\n",
              "      <td>1</td>\n",
              "      <td>0</td>\n",
              "    </tr>\n",
              "    <tr>\n",
              "      <th>4</th>\n",
              "      <td>Emergenza, Minniti annulla il viaggio e torna ...</td>\n",
              "      <td>1</td>\n",
              "      <td>1</td>\n",
              "    </tr>\n",
              "    <tr>\n",
              "      <th>5</th>\n",
              "      <td>Gli immigrati sono matti, parola di scienziati...</td>\n",
              "      <td>1</td>\n",
              "      <td>1</td>\n",
              "    </tr>\n",
              "    <tr>\n",
              "      <th>6</th>\n",
              "      <td>Ho chiesto ai profughi di lavorare ma preferis...</td>\n",
              "      <td>1</td>\n",
              "      <td>0</td>\n",
              "    </tr>\n",
              "    <tr>\n",
              "      <th>7</th>\n",
              "      <td>Immigrati bomba sociale Subito via 600mila irr...</td>\n",
              "      <td>1</td>\n",
              "      <td>1</td>\n",
              "    </tr>\n",
              "    <tr>\n",
              "      <th>8</th>\n",
              "      <td>Immigrati, così la sinistra ci costringe a ten...</td>\n",
              "      <td>1</td>\n",
              "      <td>0</td>\n",
              "    </tr>\n",
              "    <tr>\n",
              "      <th>9</th>\n",
              "      <td>Immigrati, venite tutti qui. L'ultima \"perla\" ...</td>\n",
              "      <td>1</td>\n",
              "      <td>1</td>\n",
              "    </tr>\n",
              "    <tr>\n",
              "      <th>10</th>\n",
              "      <td>Invasi dagli immigrati? Ci resta solo una poss...</td>\n",
              "      <td>1</td>\n",
              "      <td>0</td>\n",
              "    </tr>\n",
              "    <tr>\n",
              "      <th>11</th>\n",
              "      <td>Io al governo? Come ridurrò clandestini e stup...</td>\n",
              "      <td>1</td>\n",
              "      <td>1</td>\n",
              "    </tr>\n",
              "    <tr>\n",
              "      <th>12</th>\n",
              "      <td>Io, ostaggio degli immigrati: ecco come mi han...</td>\n",
              "      <td>1</td>\n",
              "      <td>0</td>\n",
              "    </tr>\n",
              "    <tr>\n",
              "      <th>13</th>\n",
              "      <td>Italia serva, calpestata e invasa, adesso bast...</td>\n",
              "      <td>1</td>\n",
              "      <td>1</td>\n",
              "    </tr>\n",
              "    <tr>\n",
              "      <th>14</th>\n",
              "      <td>L'immigrazione indiscriminata porta all'islami...</td>\n",
              "      <td>1</td>\n",
              "      <td>0</td>\n",
              "    </tr>\n",
              "    <tr>\n",
              "      <th>15</th>\n",
              "      <td>Macché poveri e disperati. Questi sono falsi p...</td>\n",
              "      <td>1</td>\n",
              "      <td>1</td>\n",
              "    </tr>\n",
              "    <tr>\n",
              "      <th>16</th>\n",
              "      <td>Malaria? E' solo l'inizio.... La tremenda prof...</td>\n",
              "      <td>1</td>\n",
              "      <td>0</td>\n",
              "    </tr>\n",
              "    <tr>\n",
              "      <th>17</th>\n",
              "      <td>Migranti o \"profughi\", comunque invasori</td>\n",
              "      <td>1</td>\n",
              "      <td>0</td>\n",
              "    </tr>\n",
              "    <tr>\n",
              "      <th>18</th>\n",
              "      <td>Perché non voglio immigrati, cosa sarebbe l'It...</td>\n",
              "      <td>1</td>\n",
              "      <td>1</td>\n",
              "    </tr>\n",
              "    <tr>\n",
              "      <th>19</th>\n",
              "      <td>Sapete cosa voglio fare agli immigrati violent...</td>\n",
              "      <td>1</td>\n",
              "      <td>1</td>\n",
              "    </tr>\n",
              "  </tbody>\n",
              "</table>\n",
              "</div>\n",
              "      <button class=\"colab-df-convert\" onclick=\"convertToInteractive('df-8d4c3aa1-96d5-4467-a56f-fdd556600226')\"\n",
              "              title=\"Convert this dataframe to an interactive table.\"\n",
              "              style=\"display:none;\">\n",
              "        \n",
              "  <svg xmlns=\"http://www.w3.org/2000/svg\" height=\"24px\"viewBox=\"0 0 24 24\"\n",
              "       width=\"24px\">\n",
              "    <path d=\"M0 0h24v24H0V0z\" fill=\"none\"/>\n",
              "    <path d=\"M18.56 5.44l.94 2.06.94-2.06 2.06-.94-2.06-.94-.94-2.06-.94 2.06-2.06.94zm-11 1L8.5 8.5l.94-2.06 2.06-.94-2.06-.94L8.5 2.5l-.94 2.06-2.06.94zm10 10l.94 2.06.94-2.06 2.06-.94-2.06-.94-.94-2.06-.94 2.06-2.06.94z\"/><path d=\"M17.41 7.96l-1.37-1.37c-.4-.4-.92-.59-1.43-.59-.52 0-1.04.2-1.43.59L10.3 9.45l-7.72 7.72c-.78.78-.78 2.05 0 2.83L4 21.41c.39.39.9.59 1.41.59.51 0 1.02-.2 1.41-.59l7.78-7.78 2.81-2.81c.8-.78.8-2.07 0-2.86zM5.41 20L4 18.59l7.72-7.72 1.47 1.35L5.41 20z\"/>\n",
              "  </svg>\n",
              "      </button>\n",
              "      \n",
              "  <style>\n",
              "    .colab-df-container {\n",
              "      display:flex;\n",
              "      flex-wrap:wrap;\n",
              "      gap: 12px;\n",
              "    }\n",
              "\n",
              "    .colab-df-convert {\n",
              "      background-color: #E8F0FE;\n",
              "      border: none;\n",
              "      border-radius: 50%;\n",
              "      cursor: pointer;\n",
              "      display: none;\n",
              "      fill: #1967D2;\n",
              "      height: 32px;\n",
              "      padding: 0 0 0 0;\n",
              "      width: 32px;\n",
              "    }\n",
              "\n",
              "    .colab-df-convert:hover {\n",
              "      background-color: #E2EBFA;\n",
              "      box-shadow: 0px 1px 2px rgba(60, 64, 67, 0.3), 0px 1px 3px 1px rgba(60, 64, 67, 0.15);\n",
              "      fill: #174EA6;\n",
              "    }\n",
              "\n",
              "    [theme=dark] .colab-df-convert {\n",
              "      background-color: #3B4455;\n",
              "      fill: #D2E3FC;\n",
              "    }\n",
              "\n",
              "    [theme=dark] .colab-df-convert:hover {\n",
              "      background-color: #434B5C;\n",
              "      box-shadow: 0px 1px 3px 1px rgba(0, 0, 0, 0.15);\n",
              "      filter: drop-shadow(0px 1px 2px rgba(0, 0, 0, 0.3));\n",
              "      fill: #FFFFFF;\n",
              "    }\n",
              "  </style>\n",
              "\n",
              "      <script>\n",
              "        const buttonEl =\n",
              "          document.querySelector('#df-8d4c3aa1-96d5-4467-a56f-fdd556600226 button.colab-df-convert');\n",
              "        buttonEl.style.display =\n",
              "          google.colab.kernel.accessAllowed ? 'block' : 'none';\n",
              "\n",
              "        async function convertToInteractive(key) {\n",
              "          const element = document.querySelector('#df-8d4c3aa1-96d5-4467-a56f-fdd556600226');\n",
              "          const dataTable =\n",
              "            await google.colab.kernel.invokeFunction('convertToInteractive',\n",
              "                                                     [key], {});\n",
              "          if (!dataTable) return;\n",
              "\n",
              "          const docLinkHtml = 'Like what you see? Visit the ' +\n",
              "            '<a target=\"_blank\" href=https://colab.research.google.com/notebooks/data_table.ipynb>data table notebook</a>'\n",
              "            + ' to learn more about interactive tables.';\n",
              "          element.innerHTML = '';\n",
              "          dataTable['output_type'] = 'display_data';\n",
              "          await google.colab.output.renderOutput(dataTable, element);\n",
              "          const docLink = document.createElement('div');\n",
              "          docLink.innerHTML = docLinkHtml;\n",
              "          element.appendChild(docLink);\n",
              "        }\n",
              "      </script>\n",
              "    </div>\n",
              "  </div>\n",
              "  "
            ]
          },
          "metadata": {},
          "execution_count": 34
        }
      ]
    },
    {
      "cell_type": "code",
      "source": [
        "#calcolo con naive bayes"
      ],
      "metadata": {
        "id": "GBzD2HCUug5s"
      },
      "execution_count": null,
      "outputs": []
    },
    {
      "cell_type": "code",
      "source": [
        "from sklearn.naive_bayes import MultinomialNB\n"
      ],
      "metadata": {
        "id": "hIJxU3GfplW9"
      },
      "execution_count": null,
      "outputs": []
    },
    {
      "cell_type": "code",
      "source": [
        "modelloNaiveBayes = MultinomialNB()\n"
      ],
      "metadata": {
        "id": "QrLDq9DqpuCn"
      },
      "execution_count": null,
      "outputs": []
    },
    {
      "cell_type": "code",
      "source": [
        "modelloNaiveBayes.fit(X_train_tfidf,y_train)"
      ],
      "metadata": {
        "colab": {
          "base_uri": "https://localhost:8080/"
        },
        "id": "FKMFN7ujtSp7",
        "outputId": "3b621a7a-ebad-4095-f5ac-1e0f5bb8b4d4"
      },
      "execution_count": null,
      "outputs": [
        {
          "output_type": "execute_result",
          "data": {
            "text/plain": [
              "MultinomialNB()"
            ]
          },
          "metadata": {},
          "execution_count": 84
        }
      ]
    },
    {
      "cell_type": "code",
      "source": [
        "predizioneValModelloNB = modelloNaiveBayes.predict(X_test_tfidf)"
      ],
      "metadata": {
        "id": "ecCM_cK9tetY"
      },
      "execution_count": null,
      "outputs": []
    },
    {
      "cell_type": "code",
      "source": [
        "#sul sotto daset di validation\n",
        "from sklearn import metrics\n",
        "metrics.accuracy_score(y_test, predizioneValModelloNB)"
      ],
      "metadata": {
        "colab": {
          "base_uri": "https://localhost:8080/"
        },
        "id": "L2jAieL1t2AL",
        "outputId": "766eddfb-ef7a-4888-bba9-a1cf911d48f9"
      },
      "execution_count": null,
      "outputs": [
        {
          "output_type": "execute_result",
          "data": {
            "text/plain": [
              "0.7474523704031901"
            ]
          },
          "metadata": {},
          "execution_count": 88
        }
      ]
    },
    {
      "cell_type": "code",
      "source": [
        "#sul database di test\n",
        "predizioneValModelloFin = modelloNaiveBayes.predict(test_tfidf)"
      ],
      "metadata": {
        "id": "54pPadket__X"
      },
      "execution_count": null,
      "outputs": []
    },
    {
      "cell_type": "code",
      "source": [
        "#controllo accuratezza sul dataset di test\n",
        "from sklearn import metrics\n",
        "metrics.accuracy_score(dftestl['hs'], predizioneValModelloFin)"
      ],
      "metadata": {
        "colab": {
          "base_uri": "https://localhost:8080/"
        },
        "id": "jAfcMNsbuK8w",
        "outputId": "f54e01a5-343f-4a94-fbb4-31d64b133a2a"
      },
      "execution_count": null,
      "outputs": [
        {
          "output_type": "execute_result",
          "data": {
            "text/plain": [
              "0.702"
            ]
          },
          "metadata": {},
          "execution_count": 92
        }
      ]
    },
    {
      "cell_type": "code",
      "source": [
        "#calcolo recall NB\n",
        "from sklearn.metrics import recall_score\n",
        "\n",
        "recall_score(dftestl['hs'],predizioneValModelloFin,  average='macro')"
      ],
      "metadata": {
        "colab": {
          "base_uri": "https://localhost:8080/"
        },
        "id": "FVrIRHZrun4i",
        "outputId": "f1473737-c4d2-4c45-b816-2bd3e1fa0a5d"
      },
      "execution_count": null,
      "outputs": [
        {
          "output_type": "execute_result",
          "data": {
            "text/plain": [
              "0.5979580526160827"
            ]
          },
          "metadata": {},
          "execution_count": 93
        }
      ]
    },
    {
      "cell_type": "code",
      "source": [
        "from sklearn.metrics import precision_score\n",
        "precision_score(dftestl['hs'], predizioneValModelloFin,  average='micro')\n"
      ],
      "metadata": {
        "colab": {
          "base_uri": "https://localhost:8080/"
        },
        "id": "eZ8Zo82nvreu",
        "outputId": "75c691d3-4740-49ca-a004-8e32c091b784"
      },
      "execution_count": null,
      "outputs": [
        {
          "output_type": "execute_result",
          "data": {
            "text/plain": [
              "0.702"
            ]
          },
          "metadata": {},
          "execution_count": 106
        }
      ]
    },
    {
      "cell_type": "code",
      "source": [
        " from sklearn.metrics import f1_score\n",
        "#f1\n",
        "f1_score(dftestl['hs'], predizioneValModelloFin, average='macro')"
      ],
      "metadata": {
        "colab": {
          "base_uri": "https://localhost:8080/"
        },
        "id": "sSh0U58v0e4x",
        "outputId": "1616d30d-0062-4ba2-d285-9bbab5b400a7"
      },
      "execution_count": null,
      "outputs": [
        {
          "output_type": "execute_result",
          "data": {
            "text/plain": [
              "0.5780447329221393"
            ]
          },
          "metadata": {},
          "execution_count": 107
        }
      ]
    },
    {
      "cell_type": "code",
      "source": [
        " from sklearn.metrics import confusion_matrix"
      ],
      "metadata": {
        "id": "bFrzX3oQux6B"
      },
      "execution_count": null,
      "outputs": []
    },
    {
      "cell_type": "code",
      "source": [
        "arrayNB=confusion_matrix(dftestl['hs'], predizioneValModelloFin)\n",
        "# (tn, fp, fn, tp)\n",
        "arrayNB"
      ],
      "metadata": {
        "colab": {
          "base_uri": "https://localhost:8080/"
        },
        "id": "772Fo3J5u1c_",
        "outputId": "14e09fdf-69d9-40d9-eb72-9a4d494f27e8"
      },
      "execution_count": null,
      "outputs": [
        {
          "output_type": "execute_result",
          "data": {
            "text/plain": [
              "array([[311,   8],\n",
              "       [141,  40]])"
            ]
          },
          "metadata": {},
          "execution_count": 114
        }
      ]
    },
    {
      "cell_type": "code",
      "source": [
        "tn, fp, fn, tp = arrayNB.ravel()"
      ],
      "metadata": {
        "id": "z_nPeRUM03qZ"
      },
      "execution_count": null,
      "outputs": []
    },
    {
      "cell_type": "code",
      "source": [
        "tn, fp, fn, tp"
      ],
      "metadata": {
        "colab": {
          "base_uri": "https://localhost:8080/"
        },
        "id": "Wm9-45GZ1AJo",
        "outputId": "4b4bbdbc-2c43-472e-ab06-165a4ddb6a64"
      },
      "execution_count": null,
      "outputs": [
        {
          "output_type": "execute_result",
          "data": {
            "text/plain": [
              "(311, 8, 141, 40)"
            ]
          },
          "metadata": {},
          "execution_count": 112
        }
      ]
    },
    {
      "cell_type": "code",
      "source": [
        "tp"
      ],
      "metadata": {
        "colab": {
          "base_uri": "https://localhost:8080/"
        },
        "id": "wrs1fkyM1F0R",
        "outputId": "44a6c0b4-2091-420f-8988-1a259cdfda92"
      },
      "execution_count": null,
      "outputs": [
        {
          "output_type": "execute_result",
          "data": {
            "text/plain": [
              "40"
            ]
          },
          "metadata": {},
          "execution_count": 111
        }
      ]
    },
    {
      "cell_type": "code",
      "source": [
        "ax= plt.subplot()\n",
        "sns.heatmap(arrayNB, annot=True, fmt='g', ax=ax);  \n",
        "\n",
        "\n",
        "\n",
        "ax.set_xlabel('');ax.set_ylabel('Valori attuali'); \n",
        "ax.set_xlabel('');ax.set_xlabel('Valori previsti'); \n",
        "\n",
        "ax.set_title('Matrice di confusione NaiveBayes'); \n",
        "ax.xaxis.set_ticklabels(['0= senza hatespeech', '1= con hatespeech']); ax.yaxis.set_ticklabels(['0= senza hatespeech', '1= con hatespeech']);"
      ],
      "metadata": {
        "colab": {
          "base_uri": "https://localhost:8080/",
          "height": 295
        },
        "id": "1XlqQ42cvKbZ",
        "outputId": "ac346527-f316-41a8-9a73-ea300a59bf87"
      },
      "execution_count": null,
      "outputs": [
        {
          "output_type": "display_data",
          "data": {
            "text/plain": [
              "<Figure size 432x288 with 2 Axes>"
            ],
            "image/png": "[encoded data removed]"
          },
          "metadata": {
            "needs_background": "light"
          }
        }
      ]
    },
    {
      "cell_type": "markdown",
      "source": [
        "![image.png](data:image/png;base64,iVBORw0KGgoAAAANSUhEUgAAAtQAAADBCAYAAADvqSfxAAAABHNCSVQICAgIfAhkiAAAIABJREFUeF7snQeY1VT6xmMXVBSxYEFRUazYsVNt2F274gKuZS3rrgX7Kir2tfe/DcSGujYsqKiABQtr741qF1Hs/f/+Qr7xTMy9c8vcmbkz3/c8701ycuqbk+Q9X05yo8jNGXAGnAFnwBlwBpwBZ8AZcAacAWfAGXAGnAFnwBlwBpwBZ8AZcAacAWfAGXAGnAFnwBlwBpwBZ8AZcAacAWfAGXAGnAFnwBlwBpwBZ8AZcAacAWfAGXAGnAFnwBlwBpwBZ8AZcAacAWfAGXAGnAFnwBlwBpwBZ8AZcAacAWfAGXAGnAFnwBlwBpwBZ8AZcAacAWfAGXAGnAFnwBlwBpwBZ8AZcAacAWfAGXAGnAFnwBlwBpwBZ8AZcAacAWfAGXAGnAFnwBlwBpwBZ8AZcAacAWfAGXAGnAFnwBlwBpwBZ8AZcAacAWfAGXAGnAFnwBlwBpwBZ8AZcAacAWfAGXAGnAFnwBlwBpwBZ8AZcAacAWfAGXAGnAFnwBlwBpwBZ8AZcAacgQZlYJYGLc0LcwacAWfAGXAGmh8De6tJCwi/CncKHzWjJs6qtmwrLCX8IowUJjSj9nlTnAFnwBlwBpwBZ8AZcAaaAAO/qw6GfYL6rK31scJbwjkC4rTarLUqPEmw9v2z2hrg9XUGGoKBajy5G4IXL8MZcAacAWeg4Rm4QEWG4jRcf0/7LhZWFmZv+KoVVCIe6jmTmDwBPkDYRFheOFKYq6BcmlYk2jFbUKU5iqweOqO9cJDwlGDHFK7uF/4izF9knh7dGXAGnAFnwBlwBpwBZyCDAYTop8JvQlpUp8MuVJx5MvJorCCrL1Mi/p5UAhF6baotrcqoIML8LOFMYQ+hoRxi8Dw1aAcDg0KNgc8gYUqQHq7Sx/N5hXUsNNMc8boo3Pg5UOtNddCVo/oe7Aw4A86AM+AMOAPOQPkMMAeZucdpMR1uh0LMhGv5JZefQ5agJtfewodJm4ZqGXp6iy11WJIPZT0gNJS3u1RBjeAfLOCJzhLRxhnHlIFIOFVGm0Xbf5JyyPd1Yd6ic/AEzkAZDDTUCLeMKnpSZ8AZcAacgRbIwGi1mekGAFF3qoA4Mzs7WG+qq4+oYosLtKGfENa/2DqXI8aLLas+4m+gTI4XTGd8rfUzBKZ32HHto/UxwnfCj0I5Vm38lNNWT9sEGfBHIk3woHiVnAFnwBlwBmo9skdwnShsKiDU8ELOJ3QS3hWWFE4XmFJxjcCXKHYQdha+EvBeThDMFtTKNsL6AgIPsYdX8xaBaSdZhkeYPHsKlP2+cJvwclbkJGxVLQ8XSEv+CEo8sqExJ7mXsIWwiPCzMEq4T/hS2F3YWqDdZkxvuE4gr9eEc4Wf/tgdD0C2F3gpcjHhB+FV4VaB6Ru5jHL4ogfeXZ4W3C7ka1+ufAi/KtnJsfpW6C/wBZTQOE5gc+HZZAcCnOPaNVmuoCXthJe3hUeFZwSz7loZIKwXhDGIuVrA8/2BcJowI9jfVut2/Hky8o3A8RkufBzEC1cX1gbzvVcX2mTEQdCPFzgWoS2lja0E0tFvaMsUgXYwmKCOoXHM6DPoM/oLL7T+Vegt0H6m/DClZU2BtDcKDwqh2QCONJR3rUBZbs6AM+AMOAPOgDPQzBlIT/l4PKO9TCGwqQIsEawY0wUsHK/wTsE24QfPjBb/IogR6AgNwH5b/0LrCLS0IVCpj8W1JYJm1yScMLbDqSgnBfsmad1eWNRqbIsKzwnpupAXoqudcJ3AtpVpdbYwhO9CghkClHZY/DDd9wpHSGYZYjedhu2ThXeSfWwXMoca8Wj1Y0kbC7XNkrR488O2GkdwTD8wOyKJH9Y9LJtByWpBfOaiI6DTnLNNXMpPG+L181SasAxbD73siNp9BQYTYVlWT9o3WkDch4Zgtvyu0PplAnEtbCOt/y/YHqF1BmyhcS4xQLE0R6f2+6Yz4Aw4A86AM+AMNFMGChHUw9T2UMjgycT+FoR/kopD/EOSeIhpBJmJmjAvW0e84AE2w1No5aYFnqWx8LSgHpSURby0oEYs8zJeVl0sP7zuvIAZlpuuM15LE2V4NxF1+fJkH1MtQru8gDRWh0IENSI8rGf/VHn5Ni/IUZd0u/G+Yocm8dP7bRuPM4MMbGMBb30WP2H6tZL4LDhOePVz5R+GE88ML3O+NMbnw4oXDrTOCtJ9lpHHhgo7IQinv/MUIrQ1tGH50x/WTe33TWfAGXAGnAFnwBlopgzUJaiXUrsnCiYUEEZmJqhD4Rmu4ylEtLwomMjh8Xw/AY/lnsL0YB8eQLOVg3DS8gieqSSbC/cIYTnFCOqrk3xJj4hnugneUfLF60hZTB9ALHUTRiVhhDPlgbg9BMQ/0yTwoodxENrwgohkqsJ7grUdjzMDBayjELZ9mraZZoJgvUFIi8JCBPWYVDo4LNSoM0LyIoEnD7S9u8Cg6EPB+L5Y61h7AZF5m2B1ZfDCoKGHgJikrYBjbnHoC/0Fjj/txQNt+17Sutk/gnCmj+whUKeBAtODSIMX+gBhFQHDox32C4T2fkIPgbKoB/stzmFaNzNBHaYP1xHLtOlLweo7IEjP6r+SfaR7RWBQ4OYMOAPOgDPgDDgDLYCBtKB+MmkzQpj5sS8Lobg7P+Ak9FAT5ysBIYThbZw/WbIPkcF+RE9oNk2B/czXZR4udrxg5X6t9W5JuC3OCfYXKqhbJWlMKD2dypPNUwQ8vWY3acXqkfWVj2W13/JjagdCOjTmZ1v6GVrHm40xmDBeaHfae42QDXkvRFCHAxfSLj+zqKJ/51AKuGqdpLwvqMu4VG70B6sn86HnTe1n2oe1kykfzNEODTFs++FxyWTn9Uk4+w6unaTWgIN50mZ3B2lI1zGVjjbZkwT2h/O2TVBbWyZr/5ZJegZbGHyE58MTSbgtGHBZ+htT+3yzQgzYCLVC2Xu2zoAz4Aw4A85A0QwgBvA6sgzNtt9Q4H/y5PpP7RuS7GdaBdYrWc6SLLtruX6yzsLmv7IfrCjgETURQxy8mCb02cbwVBYiMi0+y3WSDavLseHOZP3EjLB8QQwIyA+O8Jgi/MO5w7Npm/ovJDDnFpGLJ944IC1e7NA7r83oCoE2LsVGA9isKoM6DRAQveH0m7D4+YqsS/r4MxfZBhVkxSAEMw4R2HiWeXpg1lkriGHiLi0sE+yzeHBLPI4DeT0kTAzisUp6PPD0G+IxZQdPeyisiceTgx0E68PkhfEOwJ2CDRJoC8cH8b2cAG9W/lCtuzUAAy6oG4BkL8IZcAacAWegKAZMaKYTEf6ogEf6g/TOYJupD2lrEwSwHnq4bZeJELbxmGN4Sc1+0koosIJdRa0yPSM0hFO5Zh5ZOOIR/2k5MqSNiGvjI9QBCHG8t6EhEIlfjHFsEPhm6fbmy2tH7bxZCHkPj4ulJawYC48/9TkvI3FYDiIX48lA/2T9QC3xRDP4ml+wpxgMVBDfGE9UOAbWh5lykWUmnolHuXjF08aTlLfTgck2U14YdFk5h2udqR48ccAIR3ibCE+CfVEpBhgJujkDzoAz4Aw4A02NAUQLHjfE2avChQJzR3sLE4V8lnVvK0SAmThB3DC9AyskXb66ZO2rRJ5Z5WSF0UbalxbOWXFLDeN4hcYxK9SGKaKJaaagfCIgVukL5kUuNK9i44XHn2kx2Gjh8WSdwcdyAnPClxCMy/u1/loSJ31ss/piErWgRa70iHimwGCUydxubN9kyYKnC24NxIB7qBuIaC/GGXAGnAFnoCgGxil2z6JSFB4ZMYmHOkugIZLYzzzUtGXdM+dORyphm/nN9Wl4Nq8SvsiRKYOVLM8l3mjag2fTDD7wuhZjwxX5qCDB37R+pVCXiOcFQaZUmKd4kNbD48Q0B6ZAlGsc93OFsJ2Wp3l2n0wCdtGSKRXYU0IngeMFh/SRR4RT2JkYg5XQ28xUjixDmJvR3qy+mJUuDDtdG1sL1Bmv+3HCQkGEy+rKwPc7A86AM+AMOAPOQPNiIP1SonkFC2klgg1RYmA+adq2DfYzxYI5soXY2UG6L7W+XirRw8H+Ql9KpH5hfU28hVnvo41zggDEk6XhJUamHISG19T2413tmtqfa3P/IB1TWhC1oSHKwroemSujVDgeVNIhLpkmg+jM8rYyF/p2YQthtySNlReKTgYzY4P96akUBwX7JmrdXirUamy82BfyE05JsThZS/qKpWPaCLwjWplWYy9LptM9GqQhbdgO4i4s/BDEeT3I4KwgfILWw6kqQbR4lcGHvZwIz9QVrilztJDFt4LdnAFnwBlwBpwBZ6C5MlBpQY33FY+kiaNJWj9U6CIgrrYTjhbeEO4RzNbSiqVh+byA+OMrGszVJgwxw7JQQa2ocTlhWkQlYp0X8m5K9r1AxMSOSMJIgxg7WFhHYM4sXmUEHtMOrK6fap00GwhrCJsKiOEnBKZRmC2rFept6SZoHS5Id2sSbu0jTqGCuneQp6Vn8LGzAN/winhkWgf5MihCeFo9WDKooo0MhtIiNS2oydfSkufJAl9y2UuAG8Qlc8QtDlOJmHNsx58yBgpweL9g9o1WLM2xWl9VoO5wuoKAxxqRjZfYLD0wYHBBGOnwsL8lhO2EK7NiBDVl2kArPEbkfXiQp686A86AM+AMOAPOQAthoNKCGvGBN/Z7IS0+QnHD+oiA8zm1zmN9wnOlG5/sL0ZQd07qki473L4zqAeii2kG6TpMUxgeU2xXAS9zOk66jKlJfBYMNCiHNFnpyC8U6oUKavImLnXOxx37EMAITgwRnSt+WL+0oEbchgMmazPHm69hYP2TOFntDDkamcRnweAJz2+aQ7Z5EvCFgOd8DyIHNkzrudoR5nV5Kl0xgpqkTEehHmGeWU9SUsX4pjPgDDgDzoAz4Aw0RwYqLaiNs0O0kiWOwjDEUGh4cd/NkQ5vLp5L0hcjqMkfsYb4yarPhwpfgkiJIXyZ95yOy3QBuDPjKxmhxzkdn+1Xg/isLiiQT1ZcplLgDbd9xQhq8kbkm6jOyp+w84TZiCxjoPGRkI6LCB4chKcFNVNCrhLSYhlPNF5kswOCPNJl2PbNQfwBBcS3dF2DdBwv+lG6PmGZZ2p/+DUTkhcrqOFtQqqOPP2oj7n91MetQAbCRxQFJvFozoAz4Aw4A85ARRhAmDKHF3F0jTC8wFIQnpcJiBPEGI+7eTEvl/GIHqHXTeDzaNwL8doiNJnPzLSOtBHnUIGpHsydfUq4UuBx/qbCYQJClkfwzwjYOgIviiGumL5xksAc19CYQ8y0jZ4C60zVuEu4u1asPzb2S+Iiot8TbhSYUx0a9dtZ2FDoICDiEO7jBOpB3bPsrwrcRmBuLlxcLCDsaTNCmmkTfG0Fj32xxsCD+jDFgvpMEV4UbhPwsofWRht4fBkcIEjfFIYky+u15JgxuDhXSBtcMl+aecqTBabSjBIo04z8edmwu8BggmOL8MYT/4TwPwFDiL+TrFOP5wSOD/HBvAL91eYqI6DhMDSmeWwusOS4MF2H40Dfps+ljT5zchJIPzxV4ClBPhugndcGETgXGAS5OQPOgDPgDDgDzoAz4Aw4A43KAAMg8yh/oXXmt4fGIIjpKhbnltT+htpk2ojVgWXHhirYy3EGnAFnwBlwBpwBZ8AZcAbyMXC0diJQ803bCIUsXviGNrz1eNetjqMbugJenjPgDDgDzoAz4Aw4A86AM5CLAaZoMAUkFM1Z63ivma7UGLa/CmUakdWre2NUwst0BpwBZ8AZcAacAWfAGXAGcjHAfGvmcjPX+23BhCtfD3lcYI7zigJzqhvaeCFxqECdmL9PHeds6Ep4ec6AM+AMOAPOgDPgDDgDzoAz4Aw4A86AM+AMOAPOgDPgDDgDzoAz4Aw4A86AM+AMOAPOgDPgDDgDzoAz4Aw4A86AM+AMOAPOgDPgDDgDzoAz4Aw4A86AM+AMOAPOgDPgDDgDzoAz4Aw4A86AM+AMOAPOgDPgDDgDzoAz4Aw4A86AM+AMOAPOgDPgDDgDzoAz4Aw4A86AM+AMOAPOQHNmoDE+RN6c+fS2OQPOQPNjoJ2axB84gJ+bX/O8Rc5AnQzwpyEbC+8Jnwiz1pnCIzgDzZ8B/u59SeE7oa8L6uZ/wL2FzoAzUB4Diyv5Bx06dIjmmWee6Pff+VMyN2eg5TDw008/RZMmTYrmn3/+qH379tFvv6Ej3JyBls3ArLPOGk2dOjX6+uuvp4mJ7rO3bDq89c6AM+AM1MlArB6OOuqoaN1113UxUSddHqG5MTBlypRowIAB0aabbhode+yx0Q8//NDcmujtcQaKZqB169bRkUceGY0aNepLJf7CBXXRFHoCZ8AZaGEMxC7p+eabL2rXrp0L6hZ28L25UTRjxoxolllmieaee+74HHBB7b3CGYgiBPVcc81VQ4XPg/Je4Qw4A86AM+AMOAPOgDPgDJTBgAvqMsjzpM6AM+AMOAPOgDPgDDgDzoALau8DzoAz4Aw4A86AM+AMOAPOQBkMuKAugzxP6gw4A86AM+AMOAPOgDPgDLig9j7gDDgDzoAz4Aw4A86AM+AMlMGAC+oyyPOkzoAz4Aw4A86AM+AMOAPOgAtq7wPOgDPgDDgDzoAz4Aw4A85AGQy4oC6DPE/qDDgDzoAz4Aw4A86AM+AMuKD2PuAMOAPOgDPgDDgDzoAz4AyUwYAL6jLI86TOgDPgDDgDDcvAzz//HO21117RdtttFw0cODD65ZdfSq7ArLPOGo0YMSLafvvt4/yeeOKJaLbZZis5P0/oDDQ0A++++258Puywww7RpZdeWtb58Ntvv0WXXHJJnNeuu+4avf/++w3dnKouz/96vKoPn1feGXAGnIGmw8Dvv/8e/frrr/FfUyN8uUFjc8wxR/wXvXPOOWf8F9alGumHDh0ajR8/Ps6CvNq2bVvz19jF5kt9Z5999ujNN9+Mk55//vnReuutF9fXzRmoDwZ++umnCNj5QJ+lf9GXw7+tLqUszq9bb7215nzo2rVrxCCxVKM+n3/+efTGG2/EWVx//fXRKaecUnMel5pvS0nngrqlHGlvpzPgDDgDFWQAIT1u3Ljovvvui1588cVa3q127dpFq6++erTlllvGnuBSRfW3334bnXXWWTWtOProo6Pvv/++5PwQJOuuu27UoUOHaMqUKdE777wT150wN2egHAY4Hx599NHogQceiF577bVo4sSJNdm1b98+WmWVVaKdd9456t69e8lPRb766qvorrvuivNt1apVtOmmm5YlqHna069fv+jmm2+O82T5j3/8I1pooYUiBp9u+RlwQZ2fH9/rDDgDzoAzUAcDeOAOO+yweMoE3um0TZs2LRYXo0ePjhZeeOFok002iT3ZxRie5P/+97816RAQPXr0iL1/pRrCHrGAuEFQ//jjj9GYMWMiPH0uIEpl1dMxUPvrX/8avfDCC5n9/OOPP47A888/H914443RcsstVzRpnA/0VUQ1Nu+880ZrrLFG0fmECejzq666arTiiivWPLXBS33sscdmntdlFdYME5f+bKAZkuFNcgacAWfAGSiOAUToEUccEY0aNarmpsuj4yWWWCLq1KlTtMwyy0R4qDGbAlJcCX/Evvfee2s2/vKXv+QVvQht5oDidTbRkVUuc6a7detW4+UeOXJk3nyz8vAwZwAGEKRMmaBvMi3JBo2cDzwFQThzPsw///wxYZwPpQ7cmDZinmTy2njjjaMFFlig5PzsCDI1pW/fvrYZ3XTTTWXnWZNZM19xQd3MD7A3zxlwBpyBSjHAfM3TTjsteuihh2qK6NixYzwt45577onGjh0bPfLII7EXjpecFl100WiDDTbI9NrVVUc8yJMmTaqJxvQRbv5ZRr1eeeWVqE+fPtE222wTXX755TkfqyNqmDdtc08ph2kf/nJiFrMelo8BxPEZZ5xRMweZuHh7L7744uj++++Pn9DwpGbIkCHRLrvsEnGuLL744vmyzNzHkxXOBfqpGfkxuC11OpXlw0CU88aMaVacx+Xmm9mQZhboUz6a2QH15jgDzoAz0BAMIDgR0sOHD68pjhetEA+dO3eOvVozZsyIb8R45QYNGhR/gYBt9hV7g/7www+jzz77LC6rTZs2sQc8Vz7k/d1339XUi3rkMvJYeeWVa9UH8YPwZ362mzNQCANMwXj44Yej8CkKgvmaa66JpxVh1ifpbyeffHI8sCzlBVjOPd5XCI1pVGGfL6TOWXE4H5g+wvn1wQcfxHV87rnnog033LCkgXBWGc01zD3UzfXIerucAWfAGaggA3iuLrvsslolsN2lS5eaqR2haEYE2FcNihXTFMLN3eZL81JX69at84ryYspA6OPxNsMjh0BycwYKZYAnHbxHYIZQZhC5yCKLZGbB+VDqV29I+8wzz9Tky4C11Kkj6crZecN7BGbvvfdeWZ/jS5fRXLddUDfXI+vtcgacAWegggzw1QK+gWuGR5cvFvBSYjFittAq8gKXGXOy55577kKT1hkPL9zyyy9fE4/H6Z988kmd6TyCMwADCFyeaoRPNNZaa6345dty3xvIYphyXn311Zpdq622Wr17jxm0mvF06JtvvsmqiocFDPgQ3LuDM+AMOAPOQFEMIJiZvxl+0YM50pUQD1axL7/8sqaOeLrTc5wRxealYxl+RcS27U9gqD9zpk34U2+8fGaE44GfZ5556s3zVxTBHrmqGKAv8nm80Pbdd9+KtQFBHf6hUfplxPBcKKYStMPOidCzzpOhSp7bxdSxKcd1Qd2Uj47XzRlwBpyBJsgAYvSxxx6rqRk3dD49l2tOc7lN4CYfvpBoHmq7ySN8l1xyyZzF3HHHHREIjZfHdtppp7jO5LPYYovV7CYM7zsvUdbXo/SclfMdVc8AX/aYMGFCrXb07NmzYtMkvv7661qDWV58tHOBJzd8+o44xRpTnTgPEOT0fbOpU6fGA0z7Okmx+baU+D7lo6UcaW+nM+AMOAP1xAACl69hmPFt6fnmm68iUz2sjFAgML+5nH+EI097wdHyTwvncvOvJ6o9mypggJcBw+keCFq8vek+VV9NwWMceqg5H6wszs1SxDR1s6/mkEfokfZzobAj5x7qwnjyWM6AM+AMOAMJA9xgeVHJDA81XuKGsrRQwaO20korxS8u2s0fcYBXDePlL15iNGPKCC9PpvNpqPp7Oc2LgS+++CL+/rQZghpBatMn6ru1+fJFaOMd58scxbxYi0j3KU7lHSkX1OXx56mdAWfAGWjxDOCd4xu49hWPughB9L711lvR448/Hote/u6Yx8mlClzK549lTEzjHeT713vssUdcFf5og8/5mVePckiD6M4nTupqh+93BmCAfhfO6f/oo4+K6lf2kuHbb78dv/zHtA0+rbf++usX/bIhwph/NyxGTNtRxLNdyYFAc+8tLqib+xH29jkDzoAzUM8MIEj55zeb9sE/EvJVDL4PXZfxeJxv83LTt+9Db7bZZlHbtm3zige+5WvlIcJDMYwoDr9CgLgJv8lLXP4tMXxRkXq6mK7raPn+Qhig3zMgtKkW/CU4/a+Qb0zzzWcGfDzxCV/y5anKcccdF/+FefoPjBDc7DebNm1aLOpNDJfzPWo/Jwo54tlxfA51Ni8e6gw4A86AM5CDAW7c6667bs1eE8nTp0+vEa14g/kyB3/+ssUWW9T8yctFF10UXXLJJfGca7O6PNPs548mzBAu9k3qHFUsKhgB/vrrr9ekQVTwGb266lVUIR652TLAYJAXZUM7/vjjY1Ftc5ERxUwN4V9D//Wvf9W8wGtz+fmGOy//3XnnnXE29G/Csv6UCBEePg1ioFnfQjh8yZIXfinTLT8D7qHOz4/vdQacAWfAGUgxgKd3hx12iP9e3KZRIAT4lB7f38WDhheZv//G87bccsvVTOngDyMQ4zzOJm6hFn51AJGB4Ch0ikldZSCoQwGBOFlwwQVdUNdFnO+PGcBDvfXWW0cvvfRSDSN333139Nprr0Vrr712PP2CJyRs089sKhJiu1WrVtHIkSPj/sw5w5MfPln36aefxunClw8tc8Rt+B128qQPpz3Z5RweyjdjbnUpU0jKKb8a07qgrsaj5nV2BpwBZ6ARGcBzizBGGAwbNqymJtzY058PYyfimUfUzLPmhSkEa5ZQyNekNddcs2Y3j7h5PB56ucO0CBU+/4XwYCoIn/QLv1qQLgcx8vLLL9cEM3+VtHjC69vzly7bt6ufAYTsfvvtF73xxhs1HmZaxacXwz8/spbyRyyY9a309CQ82Rhfz0Fch18QIZz+yqDU/twFoV7fX+KYPHlyXAeMcyl8qbdmh6/UYsAFtXcIZ8AZcAacgaIYMCFw6qmnxjd9vvGMB44pHxg3d7x2PArfeOONo2OOOSYW01ipAhUPNZ4yvHh8zYPyKDvLEM9M2XjnnXfiuiBYKD9X2QgivOtm/OMjgj9X/KwyPaxlM0D/uuCCC6LFF188/tdEvvrBYI7BJ/2IKSHMs+Z9ge233z6zb9FvmRJF36PfMoc6a2qTTbm67rrrYtJ5YsOLkOk/eCnniNj5QN07d+4ci/j0Owjl5N8c07qgbo5H1dvkDDgDzkCFGUAoICIOOeSQaPfdd4/nf/IXxRiPhxG7zL1kiWA1YVFqtcgLbx0ecAQFHuUVVlgh0/OMCCBOOP80lzgmfPz48bHAsTnTCJ4sIVNq3T1d82eA/sNTk8MOOyzae++9o4kTJ8ZzpulTiGPeAWBQCDhv0ucD58jgwYOjW265JSbrtNNOi9Zbb704z3TfRdhuuOGGtUh99NFHI/6ttNxpH9QVrzoDVoxzeaONNso8z5r/US2uhS6oi+PLYzsDzoAz4AyIAbvJcwPH8waYWpE2u8GnRUE6Xl3bPHZedtlla6aUPPjgg7GQL1f4IiD4fJ9NCaENSy+9dOyNK7fOdbXJ9zc/Bug3PJkBWZb1pIa+d/nll9eIaT4jyaAuS0yTJ/FVZQwzAAAgAElEQVTxeDN9yv6x9L///W/Ut2/fsgU1U7OY/23GuwRML0Fg+/mQdUT/CPOvfOTnx/c6A86AM+AMNAEGeAy+22671dRk9OjRtT6NV2oVmQ7yzDPP1CTn5TIEi4uHUhn1dMUwwIATMX3ppZfG7xkceeSR0UknnRRPscjVBwlHmO+11141ReFVtidExZSfjst5dvPNN9cEH3jggTmFfTptS992Qd3Se4C33xlwBpyBKmAAzx/zT5n6YcYnyMLv8ZbSDOae2guJeNl5vO3mDDQEAwjjCy+8MJ43TT8+88wzo7///e81U6Ty1YHzYZ111onnN2O8QMuTlnKMpzUPP/xwrekeu+yyS9lPgcqpUzWldUFdTUfL6+oMOAPOQJUzwGNsHh/bHE2aw4uGfLO6rvmfeI7x4JndcMMNRX8tJKQPAfHUU0/VeLr5+sKKK65Y5Qx79auFgdtuuy269tprY0/0vvvuG3Xr1i2ed825wTlRl/HpvC233DKOhmf5ySefLOt8YF73iBEjaoo96KCDCvpzmrrq2VL2+xzqlnKkvZ3OgDPgDDQyAwgHvHD2SJltbuL26Jo/fOFPYGw+c7q6CG6mZPBHFggPvNXMoS71G7mUzYuNf/vb32rqgcjOVX66Pr7tDJTKAH2fqR725Qz+xAWYMW+ZedHpT+aF5ZHHnnvuGfdXpi516dIl5zSRQupJXTbffPOoffv28XeuOS99+lMhzM2M44K6cK48pjPgDDgDzkAZDCBg+QoC3rj0/FBu3Py9eD4xSxr281jcjO30FxMKrSJpES58Uxtj219GLJQ9j1cOA/RZpixlfZ6RfXwHPZ+Ypmzi8am8Qw89NK4K26BUYzDZp0+faKuttoqzyHcullpGc07ngro5H11vmzPgDDgDTYwB+yJIOdVK3+jT4rzQvM1DHoqQUvMqtEyP5wwYA3iCyzHrq+nzoZw8yxXl5ZRd7Wl9DnW1H0GvvzPgDDgDzoAz4Aw4A85AozLggrpR6ffCnQFnwBlwBpwBZ8AZcAaqnQEX1NV+BL3+zoAz4Aw4A86AM+AMOAONyoAL6kal3wt3BpwBZ8AZcAacAWfAGah2BvylxGo/gl5/Z8AZqDQDs4QFlPMWfaUr6vk7Aw3BgJ8DDcGyl1FtDNS6UVRb5b2+TY6BsarRJsK7gj/9aHKHxytUIgOzKd3SCy+8cDTXXHOVmIUncwaqlwE+7fbJJ59ErVu3jhZccMGyPs1WvSx4zZ2B2gzwlZXPP/+czxt+qD093EPtPaQ+Gfgp+Rh8p1atWvlFtz6Z9bwajQH+MOG6666LPvvss6GqxATBHRGNdjS84EZioJ3K3U//3veiwF/pzdFI9fBinYGmxMBPqszuQlvhJxfUTenQVH9dZiCoDzjgAPdiVP+x9BYkDOCBQFDL+BnjxDgDLZCB5dTmvYVxwmktsP3eZGcgFwMra0c3wQV1LoY8vHQG7N/GSs/BUzoDTYcB+2tg1YipH27OQEtkgL7Pkxl/OtMSj763OR8DNdNbfZ5rPpp8nzPgDDgDzoAz4Aw4A86AM1AHAy6o6yDIdzsDzoAz4Aw4A86AM+AMOAP5GHBBnY8d3+cMOAPOgDPgDDgDzoAz4AzUwYAL6joI8t3OgDPgDDgDzoAz4Aw4A85APgZcUOdjx/c5A86AM+AMOAPOgDPgDDgDdTDggroOgny3M+AMOAPOgDPgDDgDzoAzkI8BF9T52PF9zoAz4Aw4A86AM+AMOAPOQB0MuKCugyDf7Qw4A86AM+AMOAPOgDPgDORjwAV1PnZ8nzPgDDgDzoAz4Aw4A86AM1AHAy6o6yCoiezupHp8Jvwu/CAs0kTq5dVoAgz88MMP0frrrx917tw52njjjSP+qbJUm3322aMHH3wwzgtcc801EWFuzkALYYB/ApwjQSlN5h8F5xT8HwVLYa8yafhbaO6dXwpzVaYIz7UMBrjBcM5UvR6ttjslF6kdhQ4CJwg2Sbgn2E6Cm9ViNbVmoaSNXBAWFT5tVi1sxo355ptvorfeeiuaNGlSxPrvv/8etWvXLlpuueVizDkn15LS7YYbboi+/JJ7RRStvPLK0SyzlH4vR4wjpM3OPvvsaIcddogWWmihuN5uFWWAA7ePME8RpfysuCOEqUWkaeyotHNz4Y+ONrNGhH8gfCi8IHzfCBXdRGUeL3wt7C98UWQdzlf81YVbhUuLTNsSo3M/20VYME/jGaRcKJTqKZg/ybu1lgsIn+QpqyF3bafClhV+Fe4T3s9T+J7ahyPtTgHN01xsXjVksLCicJdwRTU3rNoENZ7aywQEpRkX3zeEt4Ow5rbKCYeZUir1wtLceGnS7fn111+j22+/Pbrqqqui6dOnR99++22NKJ1tttmieeedN1p99dWjc889N2rTpk1JbSHPRx55pCbfbbfdtqR8LBGCeqWVVop69eoVPfroo3HwZZddFp122mkRnnC3ijJAJzhbyCcu0hXg2oBAqCZBjYg6Sdgg3Rht/yQgpMcLfYWPM+JUMog6IfYZPV4sjAkK66L1B4QHhQMEBjNp+0cSgIhzQZ1m58/b3MvPEJb8865aIdz3f6wjTq7d5gngvtmUvAI3qz6IfOxIYU0h1wDuSu1DfE4UqklQb6X6niu8K2TdnBjgMLBYRsCuFbgGVKVVm6DuLpbT0x0WU9i6Qn0J6kOVF6Nh7DGBDuFKIiHEF4Ux8P3338dCediwYZkJENtfffVVNHbs2Oihhx6Kdtttt4iwYu2zzz6Lnn/++TgZXm/EcDkeavL56aefot13371GUN93333RwIEDo7nnnrvY6nn84hj4StGHCOZRIzUiYC1hbQHhPFL4hR2JITJeDrarYRXHAF5H7EnhcoF7EeJia4HrfG/hfwKeK7zFDWVPqyA8hQib51KFrqPtxYUtBKaFZAlqhN9ugovpFHk5NnnMb0J3nNZfF8xxRBJbL/7imKPAJhTMwNKMAQVPRM7MUT/joSkNCHJUtVYw5y9om2B6KtHn2n4qCbtfy6oV07ShmgQ1deVCRsfiQsYz7oWT7Z21ZLRXrueWvHkEY8ZFs+rn9QTt8dUGYIBpHYccckg0bhz3h5nWunXraIsttog6deoUC2emgCCkf/7556hDhw4lzXtmbjNi12yRRRaJp5DkMsq67bbbosmTJ8fxdt1118xpHL/88ks8J5s6f/fddzHGjx8fz892qzgDR2SU8C+FIah5Etc/Y381B72jyt8YNABxzXX+dgHxepEwoAEbOEZl5TqJTNTl83QerPTArTgG4PT/hKHFJWsWsV9SK5gmdFDS/o+aRatmNsI0GQOBrMEAzkqeRDULqyZBzURTvBcYnpzrhX8KtGEHAY9HuYKavMM8sjoAcdycgUwGEMsXXnhhLTE911xzRXfddVe05JJLxi/4MRcZ0XrggQdGJ5xwQrTCCivEgrpYz/Icc8wR52vWtWvX2IvM1IysvBDGTN/Aq01d+vTpE087SRtpAdNRGBT8+OOP8XKjjTbKzDed3rfrnQGufRiDex4TNKcnZlkOi0fURrxVuwpdBeaUfyu4NW8GrJ8371b+uXWDFMTc6A7C34WT/hzFQ6qBgayLWVOtN16KVknleHGFuYbfCSZ6++epOO1cXjhf+DRJQzq8EbzkiGeaOUyI6cOC/ZtonQs5cWcI9oiGOUE24rpX62nbN9jP6NMebxIPD/iJAo8Wrf6WFzeSPQVrJ/HdqoQBRCje33CaR9u2baMHHnggWnbZZaNZZ5211hxqhPS9994bLbjggkULVcr6/PPP4/LMunXrFgv1LDFtcezFQgR8vpcMEf684Gj2zjvvxN50tybJAF5triFc3xCfTDuwa0r4CNnClsnRihuCfNJRuIauIDCvmGuh5cW0iJ2EP4/M0jkUvs2UlilJdKa/MK3PjKeGePPwZIbX8ve0PUhYqSZm7RUeqcPFVMHqfrfWmVoSWrdkP95opqBg3CNIMyRZkld47Q6fKuDoIe6/BYxrOe0hrF8SlrWgPcQ5PbWzs7YvFODD6s09Ba8e3LQ0Y851f4EPETDdyTiZqPVBwtJCMdZekY8T3hUsr9Fa315AF6SNpxdnCBMEi/+61vcT2qYjF7iNR9rm3qMNeDJTjHFudhI4/3lyb/ViyhSD0vkyMqNtqwhXCUxvsjTpJf0SQ8MwuEV3MccwjPewtv8ihAMiniwRhzqxhOfpQbq/ah3DIcqjXOKQN0Z9md5GWJ8kLL2gzbxnYWXYfsI5Z5hyxVQxq+ezWuc85vpYMaMx1WIIXTOI52L6lsD8aexwgc6RNjrOAIEDbBdIi8PFExwjmFhmX/pE4qBwkE0Y03kJIx4nWNoQ72ZMug/tcW2EJ4zlQ5xeCYZpeYDAyzluVcIA3uHBgwfXEs3HHHNM7A1OC11EL4KWlwpLMV5qfPppxmR/GFNH8onkYspB/DMIMHv//fdjQV3uF0mKqYPHLZiBBZOYiA1emNtImCi0ERCfhZrlw1S60LjO9RMuEbiGvia8LPDloe4C0zO4Zh0olNahlTBl3BgxvPE2h5rr70kCzg+u19SD9nKN5TrOPurAHObRghkdmbnnXJffF24RSMNLUrwQxc2eGzhm94jftA5/CGfmed4mLC0gKrgujxAQytQDQWXWMVmxQQBxGXSsL1AWgxabOmJpeOpgAgOhaLaLVpgC006YLCBuuHfQVvgeJSA4qEdLMI7/1cI2AnNtxwifCQzm4IHjz7FfSyjk3sn5cr+wpjBFoF8guMiLfs2ceUSp2dZaQWNwbD8UrhcWETgeTFfhHNlMKKRsRasx+hz57itwvt4o9Az251vl3NxduEJAo7wp0CbO5R7CcOFWgbztPNJqLKbHCgwCJgh3C2gZnIgY5wk3mCeS7bW1pL9RBn2RfDlHyGfTBExNY/CHvSrcLCBu7Xjcp3WOG+c2U70wRDiDZMyuO8ThnIHvY4UHZu6u9Uu+Swp4eTi3MbjYR6AOcEodXhHIl+N5h8A5dJDAeV3vRsOqwThoHGwzOgh23h9B8cR3DnrallUAJyEE/57aaduko5PkMg4UHdUuXHQkwjDW0xaGpfdzQQzrYflYHuzbVdggnalvN10GzGP8xBN2/dGVVnOae/fuHYvcfF7jUlqFB/nZZ5+tlbRLly4lzcXOVT6ecxPQU6ZMiV9WdGuSDNg1hhsrYvqfwjICQuyYImps16X0NYub85UC19AThC7CnsLmQu8k/721ROjUhyFScVpgiABEE9ZNoD3cgM8Q1hAoF2HcXpgkIHAeE1oJZuxHTHON5z6yh4BoQhi9JYQCyDhgaeuPa51rMuIWmyYMEPYSdhbCG75xF3I4KE41k5/Zk/VwQd7Y24IJDep5jcAxPEXgePYX4Jx2I/IRMicJLcU4Hgw+BguIYbjgGOBNtv6CDmDgUoj9RZEQsPQb+jT9grT09wdTGSDeTExfqvWOQj+BfrSy8JHAuUe/LMV+TNLSb9YTOLaFGOfkdQJCl36CVuLc3FLoLqBZ6F8MzkJDgCOmGQyjkejPnF+0CSPsEIE2Y5xzzwic40sLXGsoB/6GCthxyZLF/wnsvyEJ+0rL/QWOFzyPS8JZ2HlmS7gYIcAF5y3cp62rAugDPwuPJDsRzpcJcHKsQN2oA4Mc49OOWZKkfhfVIqgPDZrNATJhy4gjtL4Z9JyZhHGwuHAyOpklASfUCwKjpCFJ2Olamj2ahBF/JeGnYF+pqzwKpONzsLm4Wl3ozJ8m29xQOgpuVcIAApfpG6HxEt+iiy5ab17jMG8E+ieffFITxHzq0DvNOoJ71KhRNRgzZkw8HxpjnvXo0aNr9vFnLlOnTo2npZjx7enQI823rut7YBC2ydfrhYFTlctFQU4v1UOuJysPbqgIx9OEUCw+oW0EPMYNuFyjAyIG8E5hiBcr73CtzyaMEbh5232AeFzbETR2UtiUC/aZ5+tGNgIjLgJsRio816bd8NkfrueKb+GIsx8E7jMI8LQxKMCeFHhkjx0oIJLw1A0SQs5x7hyWhMEJx6bajeP+d+EWYXiA27R+hMB9Eg4QRxxb40mrsU0Wrk3WuZcWYvQLyn1ZCPNjEEcfDL3TCMjFhPcE+jtCzmySVvoL9An2cf8uxbiBcLxbCfTvuQvIhPOdfjVKOEkI+wkC+B9JHohZMwQn5wrnD/0ntHu08WIS0CfYQd+E+/tqR4+3LG8GszwtCK3Uc+YxZYIIX1DYJJUnm3Z9CPXgIIVzLlBHdF/IxVhtW1tDPUle9WYIuqZu86uC3QUODCcVIyozBO4Qob/A/l4CFyFOCIz22QWMtLcK5mVg/10CNwRGOhhx6MxmHBw633dBWLmrg5MMttCyn7CCQJ0pOzwRly63IE/fcAzYPwyGJfKHKAjYSohQpny8+Sb31ZnGfOfws3uUe8opp0TMfc6yL774IjryyCNr7dp6662jK664Iv6qB9aqVauIcszee++9mq+UZOXpYY3OwFTVAAFa33ZwkiE37yzDi8Vj1o2zdtYRtoz24z2jo7UREDKbCwidK4WrBYwbNd4x7OhkmV7gJXxc4JrfUyAPbqofJxG58TMoIE5D28UqcKCAB/PGoPCOWkfUcy+7U/hVmEfAA4chMENRkgTHYu9zgfvTykJ9DJws78ZYcv9bK0G6fPrG+UIWD2FcBBi2ahiYZ50BFXzTV7YV8IpmGToADYJx7EiTtjcUMEnoIKwtPJWOUMD2t4pDH0H8UScEbK46WXYMrDAEZJZxbqJ51gt2MjDA6D8MRENje3oS0DG1L9dm6GiE+6dzRSwi/G3FfVdYV+DYoN2Md/QS1wzspGTJgkEodkoQFq7+nzbOEwodcOXIJndwNQhqLjZ0AE44TpjxqeYwgu2f7Ccuj26eTOIslYrLKC5tdCrQUEad7hZ4bGdmg4WwDrTXrYoY+PRTHjD8YR07dqzXKRhpKsIpGKHwJR4e6mL/Mpz53PnEf7596br5dqMwwI2tPgf/NGL5oCU7aR2xm7ZSr1Vc9/A+hR4obpq0g0e3JuQpjyd6ZnjxsgzxbCchjhGASMHrhuewk4BYwavFjRgBlCWOFFzvdrtyRCwhuLhH4RXFVhOWEHAC2f0JQc29DNtAOEH4Y2Q7M3whLRDTcI/gq3bjOOwrDCmgIXAxr7CKsKVAWryteF0xBlKF2E2KdLzAMaGP3CycI3Bswn6BTlpTwLhvZx0PHH8AmzNZlrJgsIc+2F4YJiyQJ5Nlg31MVcka0IZeWovOwBNbWIDHUP/gXDRnXpYwpm3oMUQp5xP5h1yVei1QNn+yCxTCAGYbYW6BcxmDGwyd93Gy3jlZsmBAHXrXbVeh/SLIqrjVahDUO6hJeC4wRpS7CjOfW8+8mNApOKCcZBzsXoIJaq3Wsvo82Om8C9nmQvmKQHtCEd3Y9Sqk7h4nDwNMvzDPrkXjm9P8Q2JjCFFekNxll12id99lkD/TEOBMS2G6xzzzzBNttdVW8ZQOxDcvHPJdav83xDwHuWXuMq8gyyPqmQKuezxmeUjg+o13DE8fwnJyqqwsYZCKEm/ipU/HJS9usIMFhEDfBA9rea7AlIxK21sqAGfQOgLlH5UUuLWW8DBcCL2F1gbEgT1lTZLUWnyjrfoeRGWV0xBhhQwMGOAdI+xTDxViEINX/D9Cd2GPBOgHxByDIDM7DxCuIJehRci3HDtEiXsKCPTTheNyZGZ9hLodmiNOVjD95XwB7zZ9n8HmhwKDtP0FhDo3jkcFM87P3QQGEysF4bYa6pmM3SUFMeAZIuCRRteZt56BKXZNsmQRcmH7g921Vu1Y5tpfcng1CGo6OQYJKwjn5WitHdD+2n9qjjiNHcwjiVBMc8JeKOBVIfxaAY+FW5UxgDBNe4nfeOONaIkllijIS42ofeWVV6Kzzjor/k70scceG/XsyTW1NEPE77333rXEPP/MyLxpRPMCCywQHX/88bW+Q82n9NJfIymtdE/VDBlA9CFGaz+Gqd3Qn0toN14wbuj1Ze2VUZYnCoGwp7CUwM35LGEzgTYhkBD1lTSertLWtYVNBZwrCBtECoZwyjK4uVfIJTYREu9nJWyGYcynHSJsKOBcQxQ+IswQ6HsnCf2EYgzv7AABx9xWAmIdTzdTbhC0oWjTZixubxFw3mUZOqTc4/GB8rhSQBhSt7OzCgrCODeZQjopT7xfUvsWSbbRVHcKDAJaCfMKU4T0oGEnhaFPmJbKucJUEuZaI7R5olRum5VFpl2uUAYLxwoIaurbReD4j81IARccv2kZ+yyolOtUnuz+2NXUBTXELS0UMvqBSOIxuuJR0GsCBzo0iL4hFcajBDoRJxYWPr6gs5Bv2riImWWdWHTMLNsgCSTPicIuQSQe7aTrm5WHhzUxBhDD/O33fPMxkP7DRowYER100EF/EtTMdeYb0rywiOE55g9XLr+ca8dMY45zPkP8MqXkgw+49upNGc1vDl8oJIw4oYVzrKkz4jn9d+ehN5194YuO/sm8fEekqvbxqHZCRo2z7gd/POKYKQDxtNanZYnfrPxDscA1PusGzvV68SQxAsEeEVt+nBATBYTBEOFZAYGLEKu0oFYRsRf6AGEpgftaO4HrPl76iYIZnurJAhcIbv5ZbQ2it5hV7uuIae7RfYQXUi2fXiIT6AYGikOEYcKjQjdh72QbMfq2sKRAH8o6dxRcb0Z9rhb2ERgg8lQ+S4dMDEqkzxR6bq6quHsJdwkMGAYIaBP63M0C3nmefJhxXu0oIKbHC4j3hjLOVQQ19eMGu60AP5wzHwaVeCdYZ6BaKBdBsvJXC72YlV9SaTmYp5nOBHk8omCkEoIRJSM4TjLrdHgfMB7/2cWIg9BP2EOg3dw8GIUisJk/hREnPFnwFndO9nXQ0vIP8+TmdHiyj1Efj0Q4EbIsvMAz+l05icQFFk/EilmJPKxpM4AIZcrEtttyrv9hV111VTR8+PAIcUyc77//PnrppZdiLzR/wsI/KAKE9JAhQ6Jtttmm4O88m6C20vA+1/cfrzCNxb4KQjn8cyIi3K1qGXgvqTk3p7ThvFg3HZhsP5Is/55jf0MEc/03UX10jgI7KtzadmuOOBaMMBqVbOBUKcR+LCRSnjhPaB/CDSGNkOdegaW90wgCBAO2u9DU79NJVSu+sOPEffr1jNIWywgrNggd8WCQCO656Jl4R4g2xPFAwF+U1IMpIIjZLHsgCdw3a2eOMAYlGHyOEfA+MxBlwDJYCMU08dA9DPywrIFn22Rf1qLcG8ZEZfq/JGOENQMp6vNfgUFEaAyEsANrBzfcVkN0jFJb00YJtwkS84iBkdOZKSCeucCGLn4e5eF1xuziy0HAc3ydwEXtY4EDQGfiBDWvMvlwscUYEY0W8F6/JVin5hEcFgr4z5I4J2tJOvJM28gkgH10wmcE6sJLECcKPAbMSpck80VTZQAx27dv31pe4hkzZkQnnnhitPnmm0f8LXj37t2jfv36RUOHDo2WWmqp2INsQpzvVzPNA4FdiJE2/CdD0vDnK2kvdSF55YoTCmr7N8fGmA+eq34eXjQDXPswrlGh+Oip7YeFXDfGQTOTxS+NnZSspxcIWeajVtLOSzLHYXFkqiBEKo+ulxAQ35cF++/WOnOVQ+Naa+I7S5ylosebryaBeCqXy4pQQBhT/LAjhE0F7htPJ2G2QNThKf1B4KkqnNu9JoyKQyjdrnB/c1vHIcW9Gd0StpunxBcLuxbRYC601wu7pdIQ3jsJYyoJx4B78m0C03ZWEc4XcMilbXUF7JAOLGP7FKXlSTuOvVxazc7HvyrOaTnKYqAcDpbvT+KhkyYJ9EEeiT4v3CL8n8A+M9pvT/Bpn2kl9q8hoGNy2RTtYCDK+QZ3xRqcjxOoAw5VvOsY9UwbfGH7CzZYTcfhfKLOFbFcB6kihRWZKdMhwvoxIslndqEiDp3dOvYdWufiZCKZE4aLL+AgM4LigmqjnSe1bp4crcbimLh0IruojdF6eBGkPOIwivtZwKPzk5C2mxTwimD5IPoXFvBWUz/rtOl0vt3EGUDgIoZ56Y/pH2Z4dL/++uuIbzjjRcZLjejlE3VMqQDLLbdcPJe5mK9ykO+GG5qjYWZpkyZNyvsCJC8qbrrpptFKK60UL+efn26XbUz1+Oijj2p28oIl37p2q2oGcEpw8+TmhOhEYN8l4FjgumU3Wq3WMq6J5wpc0wYJdAzyukLAuYDweEroK1TSKJPyuH6eI+CIuFzAG821E+HxgcBNE1FqtqxWSPe+cLUwVJgodBNwrBwrFGIIagQCxvX/EgFBkmuQkUSttbgy2UJ80Q7uB1MzIj6sMOpKO3C2fC1cI8A5YgIBhJDh6WxLsRfVUDyk6AL0ACIXjuDvEGGCUKjB/aICXNKfEddwSx/pJeDoGiyYwfWlAuIQT+k3AucPaW4UyIP6Eac+bWCSmWmGdN7PKQAhzbl5nMD5DSfUi4EkgvRZYR/BDL72FpjKAZdon28F+Nhe2E+AZzhG99AHaSttXll4W7BzEc89GmaakGXUj2sNOgqO6f/oqwOyIucIox60jxsrdXxcoJ1pIxwdSNxTBcoNr1OcQ08Ie6UT1tc2QrCp2tpBxSCKC08+u0E7IZEOQufjgkUYQpURC3kg0tcXOLh0olECN5ThghmdjQ7FaKingKeci9edAjcdM/ZR3s5CR4HOxkWWTjMiWe+sJR06tD7a+IdAXZYV6KxcqIcI5IFnBeXypWA2WSt0EkbinNCsuzUhBvDcIo4RnjfffHN01113RePGjYveeuut+OsfvLC4zDLLRPyb4UYbbRT/gyIinHThPOVCm0Ra8kOIf/MN3UaK5qmnYi94el605YngP/PMM+O6EMe+6JHldUawh9+wRvS7oC706NR7PM55jGuFOQbCQriZIZK5YVjccL+tIxK2EBCA3YX+AoISzy/g2riV8IkQGnkfI3Bj3kng2rdvEoHrFA4Jrn2I20KMNtBpyTddVr70XLSvse0AACAASURBVLN3F/YUuPHTltUEnCJ410YK3LC5XoaG2KK+PYS/JTsQBTcL5wpc882+0wr1QmCAtG2pAATMdsLBAmnHBpEmaB1uEVhZxuBjiNA/2TlMS9qVZdwnHhF2E9YT9kkicYxp70vC/yVh1bqgLdxX6RNZIilsF8eG43eEAP/cezH65WABrriXpvPhONoxJQ+Mcrl/I+44pghMbJIApwhSxGJox2vjSYE+uIHQP9lJ/Yl7r4CYLdSoF/oi3zmLRkET/F3g/A91gZXD+Uz58MG5aX0c7fGWME6gPWZ9tXKNwLnXX3hHQDPB0VJCJ4Hz6C8C5zs66lGB845zaUOB84m+jN4hb/I8SPhBCA1RS1y420RAi3G9MG7hjnzyXQtGaz/9Hc7pJ0cKWca+gQLXIureQ6BsbLrwmpDmItldPwtIbKo2qypm9YPsrBtJuu6zBQHEJ11oYZ6EZ8Wx+JRNfLNccXPV08Jz1T0rXVhmurywbZxYTdHu0Ncjdhw5cmTUtm3bpli/BqsTIjmEiVaWBvaHYhYvNp5jPNqnn356tNNOXMuyjbQI5MMPPzy6807GenoWtuqqsZDPJaizc8oOxZO+xRZbxP/GiACnPjvuuGNJ4j+7hOoJ5asr/OulrLfAjaWhza4Lua4lde1P1ze8zpCngXhcZ9LXnjB9+rrIvnQe6fKytu36l6+srHQWlq5HLm7C+KQBWL4627U213U2zV94b7J9+doVps9VhtWbpdXb6l5X/cO09bW+gjLC23id8K/6yjTJpy6+08Wl+QiPPXll9YVcZWTlFZ4P6bLZTqchLF9/ysqDsFx1SscvtL+E8SyPdL047xiI4Wk+SmBAmWUPKJCBxuHC+UGEdBnWz+18ztWfs/SOZVvItSBMn6uMsB3perIvq1+EaUpdv0kJuUGsRyWbqnGgIA6EF6x89bX4LCEvbWGeueJYGtLXlR9xc9XTwnPVPStdWGa6/mFd0u3y7SbGAEKZqR2IUaZysASEheK61GqTh3072vLgyyFM+yjXqOPbb79d89fmbdq0ib3qpXjSy62Lp48ZsOtCrmtJXfvTNIbXGfIMrzXFXhft+py+XqXLTG/b9a/YdJZP2IZC7hHET19zc5Vt19p0nbPKTh8Tq1euvMkjrHuuMsLwdN1L5byQshojTl18p+uU5iM8Brn6Qq4ysvLKd+zs+IV9qdTjkatOWe0tJG7Yryx++vxurcx50k1cBD3CM20LKmCNJPCL1M50GcaV8ZHOy7bT514Yr5BrQZg+VxlheLqeufpFIXkVHGf2gmN6RGfAGWhSDDDtg6kYgM/m8U+NLJdccsmy6onn+6abGHTPtDXXXDPOM/ziR1kFeGJnwBlwBpyBxmCAqVZMieCJw3HCusIjggnndbTOdJr2whvC/YJbgQy4oC6QKI/mDDQ1BvBS8wct66+/fiykEdgPPvhg/Em+cCpJMfUmHVMcmDpiNmDAgHqZRlJMPTyuM+AMOAPOQEUY6KdclxB6CjsKNhedwsxjz1x03lNIz0cnjlsOBlxQ5yDGg52BhmCA6RWvvvpq9OKLL8YvCfInL9gzzzwTr3fo0CEWyIjlXLbHHntEzFufNm1axOf30nOzc6XLCmdaytixY2t2UXavXr3ied2livSscjzMGXAGnAFnoNEY2FQl8wm6rsL6AlMimP5hLww+3mg1q+KCXVBX8cHzqlc/A3w5Y8yYMdEFF1xQqzF33313BHhJkS+C5JpugXhefvnl4z+QQZCTXznCl697IKL5/B/58G+OfEWknDyr/yh5C5wBZ8AZaHYM4IUG1za7ljVSg1xQNxLxXqwzAAOI4EMPPTQaOHBg5kt/CFzi1CVo8WTXl/EpPkS6mzPgDDgDzoAz4AwUxoAL6sJ48ljOQEUYQCjztY58fxtel5iuSMU8U2fAGXAGnAFnwBkomIGm/Nm8ghvhEZ0BZ8AZcAacAWfAGXAGnIHGYsAFdWMx7+U6A86AM+AMOAPOgDPgDDQLBlxQN4vD6I1wBpwBZ8AZcAacAWfAGWgsBlxQNxbzXq4z4Aw4A86AM+AMOAPOQLNgwF9KbBaHsck0Ym6+SjF+/PhovvnmazKV8oo4A+Uw8NVXX1ly/o6X77W6I6IcQj1tNTLA36/yV9V8TmhDYa5qbITX2RmoZwa+V36LCNwT5sj6H/d6Ls+za0EMvKC2IjrcnIHmxgD/IMb1kqWbM9BSGfBzoKUeeW93PgamaWdv91Dno8j3FcvARHmm17jyyiujNm3aFJvW4zsDTZKB6dOnR3vvvTdCYh9hnOAe6iZ5pLxSFWSgo/IeLtwlnCTMXcGyPGtnoFoY+E4VvURYTfissQT1vCp8JYHHR+0S5j7UcorwiuBeoISUKlv8zl9Xd+rUKVpwwQUz/6ikytrj1XUGos8//9xYeF8rbzolzkALZOBHtZnpTpwMnAduzoAzMJOBL7WIZ3s0hqDeVuWeLCwt4Ma0Ovyg9W+EF4WDhHcEtypk4Lfffot+/ZVrr5szUP0MBH2ZOaRuzkBLZIC+j2jwaaIt8eh7m/MxUPPEsqEfXR6rWt0jrCm0FUJBzyMkvNWbCjfmq30B+zj5pwp4usH2BaTxKM6AM+AMOAPOgDPgDDgDzkDRDDSkh3p/1e40IXy55yZtTxLwTuOx3lhYQUBcMy0Ej3Upxih6CYGycJUuUEomnsYZcAacAWfAGXAGnAFnwBmoi4GGEtRM7WDitj0u+lbrfxEeFX5JKolXeQ7hcAEvdaliOskuXlCeeanDcF93BpwBZ8AZcAacAWfAGXAG6oWBhpry8Q/VFrFs4vZcrT8kmJimMXiS8VSfLvQiILG1tDxTeFWw9CxnCLcJfBPT5jYurPXJws/CbwJGuUMFS3t0Em6Ljlo5UXgtiDNR6+cIywhZc8Y6KfwE4aMgTVg3W++i/WbUcRXhP6l0tHuUsIuAVz5tnyiA/CiLthwv8IIIYdR7u2Td4rTXdtrgyOr0ltZbpyP4tjPgDDgDzoAz4Aw4A85AaQw0lKDG64whTn8SLi2ius8qLiIYMYqZMOSfQ3YWnhT4nBXGx+bJH8vVNkSy7dtJ688JJwsrC5b30lo/UqDszYTQ1tfGGOFUIUu8hnH5kokZApyyjgjSUR516S3cKtwuLCiExkfDicdg4QZhsDBnEoEXPN8LIlOfnsE2q3DO0wCz6VohPzdnwBlwBpwBZ8AZcAacgXpgIJforIesa7JA5M0vmIhDAH5aRAF4dkMBiEBMe43xajN9hW8Cgnz2knbivUZYXyQsJFj+6bzZd7cQljdI24sHabSa0/6X7EEwDxJaCem2hIm30Aae8bRRPscKL3ZoeLffFvgyilmvWjFmiu+uQdjjWudJgJsz4Aw4A86AM+AMOAPOQD0w0BCCmg9eh0L1zSLrfZniM2Vk+SAf8jtKYGoHAhXhi2j/QmCaRSiAiYMn2upwudaxfQWEMTZZQMxaHDy/zPPGeEGSuBj7iWeieKskjHC+YEJZ2LVJ+LvJ9v3JkgWDCTzGVhYvYjINAyPffYQlk+1wYfGp62iBP5jA402ZeOmtTtR1HsGML6dskmzwN5mPCKGoD6L6qjPgDDgDzoAz4Aw4A85AsQw0hKDGixqazXcutK4HK+I1AnOpLxBGCAhURK+JTPJCuJvhrQ4ta25y/yACXxthTrfZvVpheoVZv2RluWRJuYjSB4I4rNuLlMtq3f5JahutUx8TsQjvO4N0iOEByTb5Yn2D/eEq88jJr6eAELf54NT1F8HKsPxIa+vs4wPkeKjdnAFnwBlwBpwBZ8AZcAbqiYG08KynbGtlU643tIdyu0Pgu9X5rNjBQThtA5EL0kbdEbn22T3zOBOPcF4QPFdgfvNgweqIsLaXIhHXmInl65LtcIG3ObSstjIwuVjgnyQx8rfpLU9rnZcXzbP9L61fMjNa7N3HKB/xbp73JNgX1c7A77//Hv3yyy/xP1POMsss0eyzzx4vSzX+mIf8MP75Erg1GwZ4sRmzp2nNpmHeEGfAGXAGGpOBYkVoKXVlikIoqlcsIhPE6GNClsAsIpucUVEd+ZSH7bOXAMno/5Lc2IeIZhoFbcRzTDtRIvcJ9nKkVuvN8h2vU5JSqAOedDz6HYVFBeOfueZuzYyBDz74IFp99dWj1VZbLerWrVtZf/mOGH/44YfjvMDRRx8dzTln2P2bGXktqzlMi+O6BGy6W8tioLjWMpJcQeCFdV54L9ZwxKwh4HBxcwacgZkM4MhlCi+zCvJpmqrjqyE81OFXKBB2iORlhAkFsGUCkHR4aPk6yI0Cn41bVbha4EW/SttTQQFT8hSGyL5CuDJPnErtYt42XmnUD3zxAqMJaer1sfBCpQr3fLMZwFP86aefRvfdd1/05JNPxut4gDt16hT16tUr6t27d9S6devsxAWE4pUeMmRIzV+9k1853mn+ZnuTTWzKveZXjRgR9evXL1pjjTX87+QLOB5lRGGK2FUCNxk7b9PZ8YWe/gID+FIsvHnx3wAflpJJBdLw5aN+Qjg9EDH7uvCyAC+fVaDcurLkfZzhwnzCqQLv8xRjTFHkX3p5eliMI6mYMppDXPr+/4RinFB8RnZAwm21cMDTIaZn8vUvnhT3F+z9qXQb0DW3CIsIPGUen45QxdudVPfRArrkSGFYFbelVtUbQlBTIHOg908IpExeKDxESM+vJi4nF52Jmwcv/WEQ/5jAVAaz9Bczgl21VknLxTmfHaOdZ+WLkOxjMMCFFZsqIJ7/LtAmplNwAX2CnYExbzm09bXxdCqsa2o7HISkduXchEtENfWhzb0FTkZuzmxbvbXq1hAMfPPNN9Fll10WXXMN3b+2vf3229H9998fLbbYYtGtt94aLbIIh6p4mzFjRvTcc7ybOtPKFdSI/Xbt2kV77LFHdPPNN8eZUv8rrrjCBXXxh6eYFHhANxX4KhJPubKujV8pvPTRVzG1adi4e6k4HCS0G2eJXbPwDO8mHCcgTB8RGtIQ0osJvIPDcQmN6XVTBF6E56X4rEEQ9wu81MAtNwNc/DjWHPvQEKAMAjkXZs5B+2Mvx4PjwmClWownRDzJRrtwT2b6JutZ5zo6aCOB850PC1ST8eEHdMhA4T8ZFafNPDnHmtWTsoYS1JC6j0B5dKS+AvOMmT4xSWBkykm1oUA8HrOtKDCK46KG8diMqR8IbS6+Bwq5HsNxcUPwctGjzO7C9QJfv0Bck8ddwg4CtreAIKaDc9PClhaWEjYQ8ExQ3y3jPTNtlBanJQiC/7TKTYATxrxDqJSdhJcE5kHjBcEDY0bdbw22i1kl3X4CbVwnSQjfPwgji8nI45bOAHOOX3zxxWjw4MHxMp999NFH0dixY6PddtutaMGKJ3rixInRm2++GReBOF9hBU6d0o08f/zxx2j33XevEdR41plWgtB2qygDJsq4Lo4W0tdnppdxXWtuxvXRnCYnah3xxPUSkcW1GecA11v+xGqE0FDGE72TBO4bN6QKNUGQ/t+AMNox2uAew73FLTcDk7ULTWDvHRGTexbeSzQB966bhHDQ8rW2PyBilRltpK/TFgYMJwgnV1kb8lWXtjEIxTh2Wfa+Ajm2DDSvyYpQrWHpC3al2vGOMqbjnCnQkRhZ8pgP8cyolE7GVAUeQyKSeczHgblRIB5pVhd4PIL45gLHaI84WUZ8HmciqLE9hM0FOvAVwr+FqwUT1Kto/X7hO4GLOcYIkbpQV16KfFcIRSlelS0EO8m50b0nvCHgKbaTneVQYd8kbkctRwtcEDDyp93kQ3sY1X0Z7yne4O11gQFHyM1T2v64+Ow8RSkMTJ06NTrkkEOijz/+g/K2bdtGAwcOjKdT/PTTT9Ho0aOjc845J/rhhx+iLl26FC2mqdccc8wR3XEHXXOmLbzwwtGyyy4bC+JyjGkfHTt2jJZYYolYSH/33XfR008/HW299dblZOtpC2fgCUW9rfDozSYmjg4e/ds1mEcvowSuu1zTjhYeFXC0NIRxjT4vR0Gh+MsRJeK6C9zqZoB7fdpwPCHKuKfdlN5Zxds47SYIaJoBwhBhUhW3J111OzfsPE7vp/3npgObw3ZDCWq4YkrFcsKeAoIYwZc1uuftc0YwCMyzBUS3vZSIl9rMxC9iNG0c0NuFrsmOObW0UROjIrwf9wkc1EMEhDOecPOGa7WWmWimXkydQJAjzi1P9i8uWHnHah1v9lgBw5u+mmD7s8qi8+F9KaejTVP6Z5KyKNfsf1qBL7cKM/Dzzz/HnulQTDNf+p577onmnnvuWEzjBd5nn32inXbaKY6LZ7kUm3XWWaORI/8Y4/Xo0aOsFxKtDtQPL3vnzp1jQc0XP8aPHx/16dMnoky3ijOQy1GQLphrENcznAv2tI7R1BcC4tSuW+l0uba5lnJNtmkl5PG5wDU5y4jHNRmnAGXhVfxMMGdBVpq6wtJtxyHBUz6cHlxj2wlpQc39AR6s3tSDuufjgDozVYM01H2GQN1x2JjxpG9ZgfskgodrKJxzHwNm1M0cInD/YbKDOi0lkO9HSdgKWpIH7crlOOE4dEz2470Njcfliwh2D6VOlGlPVlPRm8UmfQKk+zP9AY5xZnH8eGpgmgJ+CcM4VvD1phAe32R33A/I61Mhl+OJfOlnONp4ogLvxM3KT8F5jYso2oYn00sL/YWT86bI3gkn1B0O0DjoHvoU/S2XmKVPW1voh2kjT9rFeY8Rn+sLfZJzhf3kTX+jHLgw66gVzivTUdaP4Z546Cf44nwiLtcsnK2Eka+dRxynMF9txkYc+CI/zif6vZlxwTGiXXDB+Z+uY5Ck/lcb+u64v5qwi3CBgMjjwmf2olaGC/0FvL8YHbyPcKOAWMQgH6H6V2FoEsYifXG6QmGDBQ6Y2XitIKQhG+Oxw97CbQKe5dBe0sa9AnlwcmI7CEcl6+GCg2nGSc9FD6Vj4XRAvNnHJOF2cSUunfe/wj7C7kLa6BAYcW09HSfcvkgbPBo2g2MGF24VZgAROm7cuGjUKJxqM61r167RLbfcEnuTTUyzBy8yLyOee+650Xzz2fWn8AoibCdNmhR9+eUf3X7DDTcsydOdVSpf++ArH2bvvfdexGDBrckwwM3nWgGx+ZrwaoLXtXxAOFzgZliobaeIdwtch8kPPClcKGQ5Xrgu3yU8L1A28V8W7hDIqz7vLZOUH4aY5uZuRvv+JTwkUG/j4BWtP5jsq4kcrHAtpq3UnXrD2dMCAsdEOdGXFHBQsH8rAmQbCtwruGdwTQaUR9ksLxPMDtUK95FhQdhorRP3uCAsvTpIAaT7T2rHBtq+WbB6kw/tpq3cV1ua4bXm+HFf3ldAF3CswMEBGZwj8LlqEBauHp/s5/injXv4QIE+ZucZx/9Z4Rph5XSCArY5N8jjhCTuiVp2KCBdGIWbxr8Fbja0l77A8gnhaoG+mzbacpTwmIBotfMlXNKHD0sSIrzpg1xPXhCs/aSF6/MFOx9Z3i+QflOB84LzbIJA/lwbOgsYdUOLEb5+EsY1xs6jjZKw9GJhBTyapNs+2LmA1k9N9lm7jIsrFN4+nVGltrMulJUqy/Ll4IwUKDu84DMiQeimRyZc0CCf+KFARaRyUaSDYHhmQvtaG3RUiLaLO3mnVQEXRm4C1CW8CRCXTmFLrcYCnlEVdqvASUs51IsOPkg4SCAdorqjQIfCvhLOFs4TKMvaQlzakm43aTA6n9WrkNEwnRKRvkySnjSc/G4VZgAP9BlnnFFTCp+b+9vf/hYLZqZRhF/fYJ0vdDDloxQz8R6mXWihherFQ02e1A/PudVzwoQJsaCeay7r/qXU2tPUEwNcDxAQfQWuZwzIuTnhpeondBXWFDjvHxfqso6KcJmwhMCNiGtUG4EyDhQuFbiZmm2rFZwfXOOmCOcKXP92F7iZbiwg/hB79WF2/ftCmXEdNbtOK3snGwgUrvULCTsK6yRYSksTCERdViAdj4VoK6IAr9oBAk4aBCv3Jww+OUHhmLZiCINjBa7LJtpO0DrXca7r3KvM5klWyN/sSq0MEqi33buC3fHqP5IAxIDZSlpBxHAfnCZwoeHavrOwnsD9aGsBUdNSrLUayrHZTkC84T1mEAhX7QIS7L4Z6o1gd82AkT6ctssVgCOQ+/XDwiNCR2EfgfNvNWFtIdf9W7syjT5xgcCxpk+iZdbKjJkdeLqCDxHQTIh9+gbtpu9zDeD85zoQ6iL6OOmwEcJjAsK0exJ2j5YMLAnHOI8ZsNK3yR8xS3l9BM5v6v6RQF9EB5H30sJeAnXhnLxG4KbBeWSOSY6D8WXnCPlSbk+B84Ly0kbepmvgCyMvrlcDBPKkXbShi0C/+JtAXcg3rf0UVL/GydkYxgGicYU2EKKyOixCFOQyyilEhObKP8yX0REXWDM6SC/hc2FWgQssHRgzsfxZsh0u6qpzOkkh9Q/TbKkNOh1tpx5c/N0qzAAeY77c8f7779eUtNRSS9V8gi4U0/VRFXvxMcyLb1FPmzatrM/mhfkh0BkU4E3nc3/uoa6PI1dQHlxrEHzh9YaE3wufCtx8/iccKlwicK6bnaSVd4XlhF2Ex4N9uVY30Q7ENKIcgWB2pFZ44jUlCMNrdZaAwERs4EAw41pzg8ANdaiwerCv1FUe3yIUuZZxQ0ZMYtsKCHiuj0cI8GB2jFa4ycIPgmCUcF+yE8EPt28KqyRhLI4WBgkTgrCs1ekKPFNYWTBBfVpWxBxh/1H4IKG9gOgPBThJaCv3Ze4rCAOzJ5Jw2omQMRuklQsF6jJMQJyFg46aiM10hf6xk/ChgMijD2OLJMtyFtzf+wmcdwg2Bi1mx2vlGYE+zjl3YrCvmNXDFfnOJB+E6gMFJKYPI6ZnCJsJocOM8/cRAUHZX2AAh9n5yvreAucpxoAS/m4XEKCh5xdOadtVAsLZbLBWOL8ZgDKgo0+j5SzPNbSOiH1JOFcoxNBgwwWEbzdhfiHdj/dMMuJc+CJZ30pLjg3nJWkp04zzCy42Ev4ikH9FjRPXrTAGEMdc/Bi1cQOjM4Fcdph2fJNrZ4XCOZ52g+MGhHjnZHCrMANMkQhfEKS4rbbaKp7WgRe6vgU1Ap75zWZ8dg/Ba+Xw5yx89o56FWqk3XPPPaOePXvG38pGUOORtpccmfbBFBb2uVWUAYQpAolzODRunNw8EJF280pFiTe5iZ4t4KUqxOZLIk3OiIwoDY0bODdLbmChmLY4B2plU4Eb+ooCwrUcQ3BwzcWuE74V8ErBA2LqQSEU08TD4HBDAScHHkY8t1y3ERZYlqNiULKvkAVeNzOOE3kXYtT/vwIiBiGOZzU0E+mIrB+THXgW2wrvCVniHYGD2JhXgCsbPCTJm/0C7+g2golpGvxpPbR6H+WB15tzLRTTZI2g2094TMCjWqqgpv8+KXDcGAgyAK5LNwxVHOw4IRTThL0iIGIZ9DE44/7PBXt9dsreEkYm67ZgwPm6sLLAucs2ht4BWcaAFf3DgAKHohnnAucnZsuanXWs0HZ0FlM4EPbXp+L3T7Y5t824JmAMnEMxTRh1Z8DAoGBHwQU1rDQh4+I3TuBmQSel84QXUy6qjGY5wfDeNLQtrQLXDgq9UOuMHN0qzADC9amnnqpVCsKUF/rqW0xTCIL63XffrSlvySWXrCV077333viPZIq1ddddN/6zGURz+i/Mv/rqq4q0pdg6toD4C6mNeILT9r4Ccgk3uxZxXbJzftF0Bjm230nCt9ISQXeFkPVEkGjdkrh2IwtvpuxCqDLVg2vlBkIxghqhjqeYstsIiM7lBewm4ZpknVFiz2Q9l8MAMfqcsJ7AdRE+8W5PFagj4uFIgcfuOB4a0hDLtA3xglBmcIJxvBgEcfwQanYM8LBxfCcIHwtpzhEh3wn0GzzULc0YLIViur7az4AMs36X5p0nN/SpdkIHge1i7QclOENgEMS5tYmQz0u9hPYvLnC8xwrpOnH+I5gR1OgU+g1mA0kbpCXBNQsGehiDslwWXmMoB0M0p+uQK31d4W8oAgMhntD1Em4U7BxgG6HN/icErKMA9wxAEOPpelBH+gaCOtRF2qyMcWFyK5wBOjEjsq4CN4tVBR7LcpP7QHheeET4UmgMo8Pb6JIRdKGPWxqjrs2qTLzQ4QuCNI5P2FXSm5tPqC+4YJYeq5vyYjzadefmMUpkgMeT9xSQlpsJN2CE6DoC13NuQCsUkDaMwg0KYbqvcInwdwHBzLUMoWI3Na3WCGq8X8sIaS8U16C1iCjLJf6T3bUWxEUAADOEIqLhbgGPmBk3Tm6uGJ61XPZ2smMOLe1ed5fWbxH6CucIewm3CYgQrt8NYfCN+FpS2F0w5wteRAQ21267juMhRUBhPM7Hu52+byPAESEt1Uw01nf76d8YguyfQlqwtVZYmyROOQtEH30cr+xFAoO9XOcO+gOjTzMYREyGhoi0cyPMA8815/FSArpldJCIPLl+YA8F4awixBmUEofzmrwpY3521rNRXwbzFws9BcrgXMD+kSyHJEsWdp1Bg5GOwUlo1NNuhLn4TCUpbzN9YpaXW8tJzWMW0NQMl2W/plapllAfvLd8xSO0RRddNBbZ+YRvpbjhO9h8lq/YsnkREa+6W6MykM9LZBVDXA0RuNGlRW2xlf9eCbhhcVM/XsBZwGB8ujBM+KdgZp2jswJAPpuQb2dqH6KIm/m/BcrgZvi18ImQFg1h0nxt/yiIaDdURAUDB0T1UUIPYQ1hoICo3kOotE1SATx6R1BvKVyZFLi5lnMJCCwGExj1Nm8gHmwGW7mMtlm6XHE8vDgG4L9HHUlwtJXrRNtPefQWOgmDhRNzlGnnH4Iar20+m6qd1u8ZwF0mcJ7fLiBa6YPdBaZDcP5xztMWM8Qz538PIeuaRN71PZi5RnlSN4Q/g+vRwkLCpgLXgXA6kw30EdScO/mMc67i5oK64hR7AS2BAeYa86JgaM8++2y08sorF/Qpu6+/2Cs2aAAADUxJREFU/jq67bbbojvvvDN+uRHjM3j//ve/Y093loXfhE57wvlXQ/9nwyzWmkUYN9P/CHhoEFCI4JsEe2yLh9m8noU2mEfB3KwAIv3aZHmoltyMzENsN3TKPF2oT0PAvyDgcS3U0l7DMB2ee8xEhe0jfx6rA6ZY4KnGI4a3GOGB0K60MZ8TkcDACA/0NKFHUujVQeGhoB6h8O2Cfb5aHAP5+kqunBCMeIyZjlBJ+1yZXyhwXh0gDBXS/ZbybXDFucJAcDKBBRjXjF0E+j6DtkFBGgbU9C0GlaFx7m8jsP9sgadXnB8YN6X3kvX6XFAWgn9ngYHvaIFzkzq/L/DEzMwENdwxuDdvdhClYVdL6WANW0MvzRlo4gzw+Tv+CXHxxe3J7MwKDx06NNPb+80330TDhg2rEeB8SeOiiy6Khg8fHq2zzjpR3759o1atWsVzsvfff//4Cxtp4zN8K61kekHfNHvttT8J+nSaYre//fbbWoOB9u3bV3QKS7H1a8HxQ4/MFuLhKsHENLRw8ynHXlLitYUhSSZHBpmNTta7llNAmWm5kTKXGFsvT16IVYxBx4wc8RDwCNshAgKml8A0i0rb9SqAQcwyAicyggDhxuDlqaBwHntNFKgbj68RRm7FMWADNPjNskWyAhVmIppzodLG8cU7S7+eT0BUZ+mzF5OKMDWIJxyF2kGK2F5goLyhcLBwlsDgkWsIA7W0gEeAYwycjxZMTBPWeuauivyemeS6l5Zc67YS6PePC6FoHp/Ew4Nd++ab7GjoRdYBa+g6eHnOQFUzwLQKvoSx++44uP6wu+66K/YwT548OX6JcMaMGdHdd99d8w+JNl+ZqSIHH3xwdPvtt0cnnnhidNRRR0V8Ag/74osvos8++/NTXER8+A+LfOEDAVyfNn369FrTWBgwpD3h9Vme51UwA3jNzP7cOXL/gUXBBSQRn06W4X0CDza2vdBYNzEE9WNJPfDoZQng5RS+sYBIYCpLen5lkrxmwSDCvMGF3BfLPdkQynipMaZx8MgfsycByWa8eFCgbia8w32+XjcDJoyzpvNsouS75sji4SScPtYQNkGFMBeY/re30CajULyxryThe2bszxW0dLJjFS0nCkz/OEbg6QxCNctaJYHUK22d0gHJNv00nDaSI1re4De1F2B4yfHEY9Q5NAYfbycBf03ta5TNQi4cjVIxL9QZqCYGmHe8zTbbRB06dKipNl5kpnFsttlm0fLLLx/xBQ3E8sSJE+N/IQzF6QILLBD/AYzNebbpHEwjSU8loQDyXnvt2o6Td955p17/GpzP8tm8cL4igie92DnZ1XQMq6iuCEoT0v/WOp5L0FFgPi6PSoux5xT5VKGj0C4BN8wBSSYPBJn9T+tjk+3RWq4rLCxQPp4iToDNhBOEShntv07gxo1QGCbg6cVrR/2ZCnObsJjwgWA3Yrxc9wunCdST+lJvvMN4w7gfThYKEQR2I1f0+FE5c0zJsxivIXNWMR5v7yMgRnjcnbY7FYCIoq4MDroKxjntpdzuAn1hfsGtNgPWf3kSAdfwuKjAfGL6MtMMsux6BTI3ekWBPraCYOca6TlHONd2EurLTlZGnwj05dlzZGqDL/My43mmH1i7GEzuL9AnzIZohWlFDDJnCPQ18JHwvPCQwIAjFPGvaxvDO00fI38G0XjP6ZOkz7LXkkC83pyf1G1ZYa6syBlhHA8GkdgRAt4lOOFpUtpoJ8Y5CHchF6xzjOBpnThWhc0FdYUJ9uxbBgN4jE1A9+jRI6/wnH/++aMBAwZkTgeBLf6cBXGMde7cOVpmGbRCbUPAb7DBBrUC+U50OK86naaYbcR++J1r5nH7F0CKYbCicbnhcJPD68oNBe8qNyDELttpT46C8tok7UUAMz8Rr9wogTw3FEYK/xTMvtYKQoSb2/LCs8KjAuWTjkfS3JztRqfVihj1PESgPogk6kMdHhPgYU2B+qwn4A3GEADcmI8TEMSPCKTh0TEi9SmBm2+hdnoSkUfnowXafnWhiRXv5QQIe7zs8DY9R/o+Ch8tIEyeEfAqEh8eENvsw5s3p+BWm4E7tElfmEW4VaCPjBYuEoYnSy3+ZPQj+hiiuq/A+cH5QJ9BiCM4rxI4T+rTdq0jM44/ohphfJTAzYJ+QH94QnhXuFJYTTCjrrQHGycgiOGF82Z+oZdwk8CAjv6IIVAZuJMPfYx2c45cIfCkiutGlo1QIJ50+iLx4R7RnmvKTToP5onDM9c5RDHH7Zh0pGR7jJb0+++EE4U3BXgATwpwc4nAoKji5oK64hR7AS2BATy3iFDmUl9xxRXR1VdfHW299dYR4hmbY4454j9FOeGEEyK+Ec2fviDC00a8wYMH10zzYMoI86nTRlq+IhJO+3j88cczvdnptIVsMziwlyOJj6Cmbm4VYwCvKx4kDLFXl12nCFsK3Hi46eCB4ebYXTBRiPcptF+0gQDlhoWwNBugFdK8ISBEecSKeNhH2FHgxh0aQhChishAlK4qUP4KAjd78ypptSCbksSiTtSxUIODpYQzBG6+eMvxNo8WENnbCB8KZuR9mNBfQPx2Eag3AmR/AVER8vKFtsmXdJOFtJ2uADxjiOC1Bfg+JYjEzR1jcJLLLtUOjj1lIGYoL8vIm+P9F4EBTEeBMhE7CCUEB+1HADUXs373Q44GmSe0rn7D8aEfIxCZJsBx5xzYQ7A+TBE2P5l1sxu1Qh/jCQ7iDI7pMwyAEI4cj1xiT7tqGe3gos+S8zCXIQTPEajjN4KdH2H8q7WBQL1AoE2ct/QHNN0QYXsBsW9GOzYXnha2FRDtuwnbCYhNvPc/CpsJPQSMfrWBMESg3rQb4cr1gnNrahJOPUPj2kG+iO7FBa4LNwt2PnyrdQQ3NiFZphf0cTseH2idgVAuu1g7VhIuERj8rCXAxc/CNQJzsIcLFTeUv5szUF8M3KGpCzuOHDkyFpYt1RC7eHP58kf45yh4lZnrDBDf6ekT33//fTwl5KGHHorF67nnnhttv/32EeHpuHBLnLPOOiu68kqcEXq21alTdM8999SLqGa+N5525mXbS5O9evXKHAQ09+PMHPaNN96YZvYWuNC7OQMtjQFE0XMCg5h/tbTGV3l7F1H9xwpMf0AIj8zRHsQoHiCEdj4BmyN5iw2+SS3nBrEeoxk3Z8AZqEcGEL94eL/77rv4RUS+UQ0Qp8xJRnCnBTJxBw4cGItpvNrnnXde7MXOJaapLsJ8u+1wBMw0XiJkfna5xiDgmWeeqXnJsU2bNrF3PcujXm5Znt4ZcAacAWegogzMptxxngKeYKV1H+F7CjwKxSOO59mtBAbSxJaQhSdxBpyBchjAk41n+uGHmQanyW/yOPfp06egvy1n2keXLjzBnDn3Ovw78lLrhEealynNunfvHi200EIuqEsl1NM5A86AM9B4DDBdiGkYCGempzCljCksRwtHCkwDYUrIHALvRLDtVgIDLqhLIM2TOAP1xQB/WX7yySfHYpq/C7/pppui9ddfvyAxTR3wZvfu3bvG440QLseTzEuNr7/+ejRmzJiaJh500EHxZwHTXvX64sDzcQacAWfAGagoA7sod+Zb855FG+EE4UyBudp8wWO8cJywpZCeE60gt/9v745xEweiMAC7SQXFFuEe20RIq0hpcgfusVdIwSEoInERqpBui+2ouEEa2hSZH8U0IWDF0a6xv5FGwsGTeD4b8zKaeW4i8FlaliZt7UOAQAuBzKNeLpfV42OmJZa7WNmez+eHgDjbi8WimkwmnwbJ2Wc2m1XJeb3dbqtk+jg2paTpYSag3mw2h90TTGdBooC6qaD9CBAg0DmBBMm/S70uNQucfpSahYYZtc5i6CzcTFVaCAioW+BpSqCtQOZWj8fj/ULCBMJ5CExKXo9Go31u6lMjznkvC0BXq9U+ZV62M+r91ZJ52ZluUh9H5nwLpr+qqR0BAgQ6JZDsGnWGjU4dWB8ORkDdh7OoDxcpkAA4afEeHjKd7WNJcLzb7U6OONfTMBL0fkep0/9lMWRdTPX4Dlm/gwABAgT6LCCg7vPZ1bfOC2Q0+dyIsoC286fRARIgQIDAwAUsShz4BaD7BAgQIECAAAEC7QQE1O38tCZAgAABAgQIEBi4gIB64BeA7hMgQIAAAQIECLQTMIe6nZ/WRwTylMDUU9kpjjTzIwKdFMi1/F7qAYg8eUwhMCSB+pr3GRjSWdfXcwL5ckjqwX05vDjXyvsEGgg8lcdW/5pOp9XVVR66pBC4fIGkDlyv1+nIc6lJOeW+efmnVQ+aCyRf8bjU21LzWOq/pfqnsrmfPfsr8Fq6dlNqAp47Xwz9PdH/o2d/yh/9WWpuwAoBAgQIECBAoO8CL6WD933vpP4RIECAAAECBAgQIECAAAECBAgQIECAAAECBAgQIECAAAECBAgQIECAAAECBAgQIECAAAECBAgQIECAAAECBAgQIECAAAECBAgQIECAAAECBAgQIECAAAECBAgQIECAAAECBAgQIECAAAECBAgQIECAAAECBAgQIECAAAEC/1LgDSdtT8piQehXAAAAAElFTkSuQmCC)"
      ],
      "metadata": {
        "id": "KzyC8z3BzPEI"
      }
    }
  ]
}